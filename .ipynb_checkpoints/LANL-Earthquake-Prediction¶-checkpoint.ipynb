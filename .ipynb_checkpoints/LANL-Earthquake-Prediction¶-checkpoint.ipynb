{
 "cells": [
  {
   "cell_type": "markdown",
   "metadata": {},
   "source": [
    "# LANL Earthquake Prediction: Research Prediction Challenge\n",
    "\n",
    "### This project is aimed at predicting the timing of labratory earthquakes based on seismic signals\n",
    "\n",
    "-------------------------------------------"
   ]
  },
  {
   "cell_type": "markdown",
   "metadata": {},
   "source": [
    "## TO DO:\n",
    "\n",
    "- Find other time series machine learning models to test on the data\n",
    "- Come up with data treatment methods, so that ML models can more easily make predictions\n",
    "- Write a training function that loads the data chunk by chunk in order to fit within ram.\n",
    "- See if you can find any other earthquake data sets that could be used for extra training\n",
    "- Come up with grid search function to tune chosen models, and pick the best one\n",
    "\n",
    "\n",
    "### Loading Data:\n",
    "- None\n",
    "\n",
    "### Data Analysis:\n",
    "- Get data statistical metrics\n",
    "- Test-Train-Split\n",
    "- Split into segments to the failure of the model\n",
    "\n",
    "### Model Selection:\n",
    "\n",
    "    Recurrent Neural Network:\n",
    "        - build functional model\n",
    "    \n",
    "    Neural Differential Equation:\n",
    "        - find a way to import into conda\n",
    "        - build funtional model\n",
    "        \n",
    "    Gradient Boosting:\n",
    "        - What is this, effective???\n",
    "    \n",
    "\n",
    "\n"
   ]
  },
  {
   "cell_type": "markdown",
   "metadata": {},
   "source": [
    "## Importing Dependencies :\n",
    "---"
   ]
  },
  {
   "cell_type": "code",
   "execution_count": 25,
   "metadata": {},
   "outputs": [
    {
     "name": "stdout",
     "output_type": "stream",
     "text": [
      "Successfully Imported Dependencies\n"
     ]
    }
   ],
   "source": [
    "%matplotlib inline\n",
    "import os\n",
    "import numpy as np\n",
    "import pandas as pd\n",
    "import matplotlib.pyplot as plt\n",
    "import keras as ks\n",
    "print(\"Successfully Imported Dependencies\")"
   ]
  },
  {
   "cell_type": "markdown",
   "metadata": {},
   "source": [
    "## Loading Data:\n",
    "---"
   ]
  },
  {
   "cell_type": "markdown",
   "metadata": {},
   "source": [
    "The training csv file is approximatley 9.5 gigabytes so only fractions of the data file will be loaded at any given time."
   ]
  },
  {
   "cell_type": "code",
   "execution_count": 77,
   "metadata": {},
   "outputs": [
    {
     "name": "stdout",
     "output_type": "stream",
     "text": [
      "success\n",
      "CPU times: user 26.5 s, sys: 3.47 s, total: 29.9 s\n",
      "Wall time: 28.8 s\n"
     ]
    }
   ],
   "source": [
    "%%time\n",
    "Training_Data = pd.read_csv(\"/Users/gregeales/LANL-Training-Data.csv\", nrows=100000000)\n",
    "print(\"success\")"
   ]
  },
  {
   "cell_type": "code",
   "execution_count": 78,
   "metadata": {},
   "outputs": [],
   "source": [
    "def load_testing_data():\n",
    "    path = \"/Users/gregeales/LANL-Test-Data\"\n",
    "    testing_segments = os.listdir(path)\n",
    "    return None"
   ]
  },
  {
   "cell_type": "markdown",
   "metadata": {},
   "source": [
    "## Data Analysis:\n",
    "---"
   ]
  },
  {
   "cell_type": "markdown",
   "metadata": {},
   "source": [
    "Training Data includes **acoustic_data** which is the acoustic strength at the time of measurement. The 2nd column is **time_to_failure** which is the time until the next labratory earthquake."
   ]
  },
  {
   "cell_type": "code",
   "execution_count": 79,
   "metadata": {},
   "outputs": [
    {
     "name": "stdout",
     "output_type": "stream",
     "text": [
      "   acoustic_data  time_to_failure\n",
      "0             12           1.4691\n",
      "1              6           1.4691\n",
      "2              8           1.4691\n",
      "3              5           1.4691\n",
      "4              8           1.4691\n",
      "   acoustic_data  time_to_failure\n",
      "1              6           1.4691\n",
      "        acoustic_data  time_to_failure\n",
      "100000              2         1.443598\n",
      "100001              4         1.443598\n"
     ]
    }
   ],
   "source": [
    "print(Data.head())\n",
    "print(Data.loc[[1]])\n",
    "print(Data.loc[[100000, 100001]])"
   ]
  },
  {
   "cell_type": "code",
   "execution_count": 80,
   "metadata": {},
   "outputs": [
    {
     "name": "stdout",
     "output_type": "stream",
     "text": [
      "Data Successfully Plotted\n"
     ]
    },
    {
     "data": {
      "image/png": "[encoded data removed]",
      "text/plain": [
       "<Figure size 432x288 with 1 Axes>"
      ]
     },
     "metadata": {},
     "output_type": "display_data"
    }
   ],
   "source": [
    "plt.plot(Data[\"acoustic_data\"].values[::100])\n",
    "plt.plot(Data[\"time_to_failure\"].values[::100])\n",
    "print(\"Data Successfully Plotted\")"
   ]
  },
  {
   "cell_type": "markdown",
   "metadata": {},
   "source": [
    "There apears to be very little variance relative to the massive recorded spike to the left of the 0.4 value. There seems to be a higher density of activity to the left of the big spike."
   ]
  },
  {
   "cell_type": "markdown",
   "metadata": {},
   "source": [
    "## Model Selection:\n",
    "---"
   ]
  },
  {
   "cell_type": "markdown",
   "metadata": {},
   "source": [
    "### Recurrent Neural Networks:"
   ]
  },
  {
   "cell_type": "code",
   "execution_count": 71,
   "metadata": {},
   "outputs": [
    {
     "name": "stdout",
     "output_type": "stream",
     "text": [
      "(100000, 1, 1)\n",
      "(100000, 1)\n"
     ]
    }
   ],
   "source": [
    "X = Data[\"acoustic_data\"].values.reshape([len(Data[\"acoustic_data\"].values), 1, 1])[::100]\n",
    "print(X.shape)\n",
    "Y = Data[\"time_to_failure\"].values.reshape([len(Data[\"time_to_failure\"].values), 1])[::100]\n",
    "print(Y.shape)"
   ]
  },
  {
   "cell_type": "code",
   "execution_count": 22,
   "metadata": {},
   "outputs": [
    {
     "name": "stderr",
     "output_type": "stream",
     "text": [
      "/Users/gregeales/anaconda3/lib/python3.6/site-packages/ipykernel_launcher.py:6: UserWarning: The `input_dim` and `input_length` arguments in recurrent layers are deprecated. Use `input_shape` instead.\n",
      "  \n",
      "/Users/gregeales/anaconda3/lib/python3.6/site-packages/ipykernel_launcher.py:6: UserWarning: Update your `LSTM` call to the Keras 2 API: `LSTM(15, input_shape=(None, 1))`\n",
      "  \n"
     ]
    },
    {
     "name": "stdout",
     "output_type": "stream",
     "text": [
      "Epoch 1/1\n",
      "100000/100000 [==============================] - 20s 199us/step - loss: 0.0518\n"
     ]
    },
    {
     "data": {
      "text/plain": [
       "<keras.callbacks.History at 0xb34baaa90>"
      ]
     },
     "execution_count": 22,
     "metadata": {},
     "output_type": "execute_result"
    }
   ],
   "source": [
    "from keras.models import Sequential\n",
    "from keras.layers import LSTM, Dense, Dropout, Masking, Embedding, RNN\n",
    "\n",
    "LSTM_Model = Sequential()\n",
    "\n",
    "LSTM_Model.add(LSTM(15, input_dim=1))\n",
    "LSTM_Model.add(Dense(15, input_dim=15, activation=\"relu\"))\n",
    "LSTM_Model.add(Dense(5, input_dim=15, activation=\"relu\"))\n",
    "LSTM_Model.add(Dense(1, input_dim=5, activation=\"relu\"))\n",
    "\n",
    "LSTM_Model.compile(optimizer=\"adam\", loss='mean_squared_error')\n",
    "\n",
    "LSTM_Model.fit(X, Y)"
   ]
  },
  {
   "cell_type": "code",
   "execution_count": 17,
   "metadata": {
    "scrolled": true
   },
   "outputs": [
    {
     "name": "stdout",
     "output_type": "stream",
     "text": [
      "100000/100000 [==============================] - 4s 41us/step\n",
      "0.0008872417857451365\n"
     ]
    }
   ],
   "source": [
    "X = Data[\"acoustic_data\"].values.reshape([len(Data[\"acoustic_data\"].values), 1, 1])[100000:200000]\n",
    "Y = Data[\"time_to_failure\"].values.reshape([len(Data[\"time_to_failure\"].values), 1])[100000:200000]\n",
    "print(LSTM_Model.evaluate(X, Y))"
   ]
  },
  {
   "cell_type": "markdown",
   "metadata": {},
   "source": [
    "### Neural Ordinary Differential Equations:"
   ]
  },
  {
   "cell_type": "code",
   "execution_count": 66,
   "metadata": {},
   "outputs": [
    {
     "ename": "NameError",
     "evalue": "name 'modules' is not defined",
     "output_type": "error",
     "traceback": [
      "\u001b[0;31m---------------------------------------------------------------------------\u001b[0m",
      "\u001b[0;31mNameError\u001b[0m                                 Traceback (most recent call last)",
      "\u001b[0;32m<ipython-input-66-d834377797bc>\u001b[0m in \u001b[0;36m<module>\u001b[0;34m()\u001b[0m\n\u001b[0;32m----> 1\u001b[0;31m \u001b[0mmodules\u001b[0m\u001b[0;34m\u001b[0m\u001b[0m\n\u001b[0m",
      "\u001b[0;31mNameError\u001b[0m: name 'modules' is not defined"
     ]
    }
   ],
   "source": []
  },
  {
   "cell_type": "markdown",
   "metadata": {},
   "source": [
    "### Gradient Boosting:"
   ]
  },
  {
   "cell_type": "code",
   "execution_count": null,
   "metadata": {},
   "outputs": [],
   "source": []
  },
  {
   "cell_type": "markdown",
   "metadata": {},
   "source": [
    "## Model Optimization\n",
    "---"
   ]
  },
  {
   "cell_type": "code",
   "execution_count": null,
   "metadata": {},
   "outputs": [],
   "source": []
  },
  {
   "cell_type": "markdown",
   "metadata": {},
   "source": [
    "## Model Evaluation:\n",
    "---"
   ]
  },
  {
   "cell_type": "code",
   "execution_count": null,
   "metadata": {},
   "outputs": [],
   "source": []
  },
  {
   "cell_type": "code",
   "execution_count": null,
   "metadata": {},
   "outputs": [],
   "source": []
  }
 ],
 "metadata": {
  "kernelspec": {
   "display_name": "Python 3",
   "language": "python",
   "name": "python3"
  },
  "language_info": {
   "codemirror_mode": {
    "name": "ipython",
    "version": 3
   },
   "file_extension": ".py",
   "mimetype": "text/x-python",
   "name": "python",
   "nbconvert_exporter": "python",
   "pygments_lexer": "ipython3",
   "version": "3.6.5"
  }
 },
 "nbformat": 4,
 "nbformat_minor": 2
}
