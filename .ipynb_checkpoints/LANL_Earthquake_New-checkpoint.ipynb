{
 "cells": [
  {
   "cell_type": "markdown",
   "metadata": {
    "colab_type": "text",
    "id": "view-in-github"
   },
   "source": [
    "<a href=\"https://colab.research.google.com/github/Gregory-Eales/LANL-Earthquake-Prediction/blob/master/LANL_Earthquake_Colab.ipynb\" target=\"_parent\"><img src=\"https://colab.research.google.com/assets/colab-badge.svg\" alt=\"Open In Colab\"/></a>"
   ]
  },
  {
   "cell_type": "markdown",
   "metadata": {
    "colab_type": "text",
    "id": "_HJmKtZ_PYsm"
   },
   "source": [
    "# LANL Earthquake Prediction on Colab"
   ]
  },
  {
   "cell_type": "markdown",
   "metadata": {
    "colab_type": "text",
    "id": "7TzrwglzQcu0"
   },
   "source": [
    "## To Do:\n",
    "- Create Data  Loading Functions\n",
    "- Create Grid Search Functions: Dimensions (model, parameters,  data input size)\n",
    "- "
   ]
  },
  {
   "cell_type": "markdown",
   "metadata": {
    "colab_type": "text",
    "id": "yYhnc0EJPh-8"
   },
   "source": [
    "## Setting up"
   ]
  },
  {
   "cell_type": "markdown",
   "metadata": {
    "colab_type": "text",
    "id": "p1uEzwbOPmA6"
   },
   "source": [
    "### Import Dependencies"
   ]
  },
  {
   "cell_type": "code",
   "execution_count": 0,
   "metadata": {
    "colab": {},
    "colab_type": "code",
    "id": "9ytiiYjzJtj0"
   },
   "outputs": [],
   "source": [
    "# import dependencies\n",
    "import numpy as np\n",
    "import pandas as pd\n",
    "import tensorflow as tf"
   ]
  },
  {
   "cell_type": "code",
   "execution_count": 3,
   "metadata": {},
   "outputs": [
    {
     "name": "stdout",
     "output_type": "stream",
     "text": [
      "LANL-Earthquake-PredictionÂ¶.ipynb\n",
      "LANL_Earthquake_Colab.ipynb\n",
      "LANL_Earthquake_New.ipynb\n",
      "README.md\n",
      "TrainingDataSegmentation.py\n"
     ]
    }
   ],
   "source": [
    "!ls"
   ]
  },
  {
   "cell_type": "markdown",
   "metadata": {
    "colab_type": "text",
    "id": "5mLgz6B2P_5p"
   },
   "source": [
    "### Define Data Loading Functions"
   ]
  },
  {
   "cell_type": "code",
   "execution_count": 0,
   "metadata": {
    "colab": {},
    "colab_type": "code",
    "id": "4RvspK6MJ4Ek"
   },
   "outputs": [],
   "source": [
    "# set data paths from drive\n",
    "training_data_path =  \"drive/My Drive/LANL-Data-Colab/LANL-Training-Data\"\n",
    "testing_data_path = \"drive/My Drive/LANL-Data-Colab/LANL-Test-Data\"\n",
    "\n",
    "\n",
    "def get_file_number(n):\n",
    "    n = str(n)\n",
    "    n = \"0\"*(3-len(n)) + n\n",
    "    return n\n",
    "\n",
    "def load_data(number):\n",
    "    path = \"drive/My Drive/LANL-Data-Colab/LANL-Training-Data/Training-Data\"\n",
    "    path = path + get_file_number(number) + \".csv\"\n",
    "    train_df = pd.read_csv(path, dtype={'acoustic_data': np.int8, 'time_to_failure': np.float32})\n",
    "    return train_df\n",
    "\n",
    "def create_training_data(number, data_length):\n",
    "    train_df = load_data(number)\n",
    "    samples = train_df.shape[0]//data_length\n",
    "    X = train_df[\"acoustic_data\"].as_matrix()\n",
    "    Y = train_df[\"time_to_failure\"].as_matrix()\n",
    "    del train_df\n",
    "    train_df = None\n",
    "    x_train = []\n",
    "    y_train = []\n",
    "    for i in range(samples):\n",
    "        x_train.append(X[i*data_length:(i+1)*data_length].tolist())\n",
    "        y_train.append(np.sum(Y[i*data_length:(i+1)*data_length].tolist()))\n",
    "    x_train.append(X[-1*data_length -1:-1].tolist())\n",
    "    y_train.append(np.sum(Y[-1*data_length-1:-1]))\n",
    "    print(type(x_train), len(x_train[-1]))\n",
    "    x_train = np.reshape(np.array(x_train), [samples+1, data_length, 1])\n",
    "    y_train = np.reshape(np.array(y_train), [samples+1, 1])\n",
    "    y_train = y_train/data_length\n",
    "    return x_train, y_train"
   ]
  },
  {
   "cell_type": "code",
   "execution_count": 0,
   "metadata": {
    "colab": {
     "base_uri": "https://localhost:8080/",
     "height": 34
    },
    "colab_type": "code",
    "id": "LjGjf5Jn1yFe",
    "outputId": "5cbbe280-8798-42c9-af0f-6525cd539404"
   },
   "outputs": [
    {
     "name": "stdout",
     "output_type": "stream",
     "text": [
      "<class 'list'> 10000\n"
     ]
    }
   ],
   "source": [
    "x, y = create_training_data(1, 10000)"
   ]
  },
  {
   "cell_type": "markdown",
   "metadata": {
    "colab_type": "text",
    "id": "fog-1YC3Y4Qe"
   },
   "source": [
    "## Model Evaluation"
   ]
  },
  {
   "cell_type": "markdown",
   "metadata": {
    "colab_type": "text",
    "id": "cHTMR-_-QOdN"
   },
   "source": [
    "### LSTM Neural Networks"
   ]
  },
  {
   "cell_type": "code",
   "execution_count": 0,
   "metadata": {
    "colab": {
     "base_uri": "https://localhost:8080/",
     "height": 34
    },
    "colab_type": "code",
    "id": "1Ia8oJJmpgfI",
    "outputId": "372153f8-0b47-4b16-af75-09bbd931ddeb"
   },
   "outputs": [
    {
     "name": "stderr",
     "output_type": "stream",
     "text": [
      "Using TensorFlow backend.\n"
     ]
    }
   ],
   "source": [
    "from keras.models import Sequential\n",
    "from keras.layers import LSTM, Dense, Dropout, Masking, Embedding, RNN"
   ]
  },
  {
   "cell_type": "code",
   "execution_count": 0,
   "metadata": {
    "colab": {
     "base_uri": "https://localhost:8080/",
     "height": 292
    },
    "colab_type": "code",
    "id": "rTGXOjNVM7xd",
    "outputId": "c36fbe7d-5249-4c5b-f86a-d0a31304b00e"
   },
   "outputs": [
    {
     "name": "stdout",
     "output_type": "stream",
     "text": [
      "WARNING:tensorflow:From /usr/local/lib/python3.6/dist-packages/tensorflow/python/framework/op_def_library.py:263: colocate_with (from tensorflow.python.framework.ops) is deprecated and will be removed in a future version.\n",
      "Instructions for updating:\n",
      "Colocations handled automatically by placer.\n"
     ]
    },
    {
     "name": "stderr",
     "output_type": "stream",
     "text": [
      "/usr/local/lib/python3.6/dist-packages/ipykernel_launcher.py:2: UserWarning: The `input_dim` and `input_length` arguments in recurrent layers are deprecated. Use `input_shape` instead.\n",
      "  \n",
      "/usr/local/lib/python3.6/dist-packages/ipykernel_launcher.py:2: UserWarning: Update your `LSTM` call to the Keras 2 API: `LSTM(15, return_sequences=True, input_shape=(None, 1))`\n",
      "  \n",
      "/usr/local/lib/python3.6/dist-packages/ipykernel_launcher.py:11: UserWarning: The `input_dim` and `input_length` arguments in recurrent layers are deprecated. Use `input_shape` instead.\n",
      "  # This is added back by InteractiveShellApp.init_path()\n",
      "/usr/local/lib/python3.6/dist-packages/ipykernel_launcher.py:11: UserWarning: Update your `LSTM` call to the Keras 2 API: `LSTM(15, return_sequences=True, input_shape=(None, 1))`\n",
      "  # This is added back by InteractiveShellApp.init_path()\n",
      "/usr/local/lib/python3.6/dist-packages/ipykernel_launcher.py:19: UserWarning: The `input_dim` and `input_length` arguments in recurrent layers are deprecated. Use `input_shape` instead.\n",
      "/usr/local/lib/python3.6/dist-packages/ipykernel_launcher.py:19: UserWarning: Update your `LSTM` call to the Keras 2 API: `LSTM(15, return_sequences=True, input_shape=(None, 1))`\n",
      "/usr/local/lib/python3.6/dist-packages/ipykernel_launcher.py:27: UserWarning: The `input_dim` and `input_length` arguments in recurrent layers are deprecated. Use `input_shape` instead.\n",
      "/usr/local/lib/python3.6/dist-packages/ipykernel_launcher.py:27: UserWarning: Update your `LSTM` call to the Keras 2 API: `LSTM(15, return_sequences=True, input_shape=(None, 1))`\n"
     ]
    }
   ],
   "source": [
    "# define LSTM Models for training\n",
    "\n",
    "# LSTM 01\n",
    "LSTM_Model_01 = Sequential()\n",
    "LSTM_Model_01.add(LSTM(15, input_dim=1, return_sequences=True))\n",
    "LSTM_Model_01.add(LSTM(15))\n",
    "LSTM_Model_01.add(Dense(15, activation=\"relu\"))\n",
    "LSTM_Model_01.add(Dense(5, activation=\"relu\"))\n",
    "LSTM_Model_01.add(Dense(1, activation=\"relu\"))\n",
    "LSTM_Model_01.compile(optimizer=\"adam\", loss='mean_squared_error')\n",
    "\n",
    "# LSTM 02\n",
    "LSTM_Model_02 = Sequential()\n",
    "LSTM_Model_02.add(LSTM(15, input_dim=1, return_sequences=True))\n",
    "LSTM_Model_02.add(LSTM(15))\n",
    "LSTM_Model_02.add(Dense(15, activation=\"relu\"))\n",
    "LSTM_Model_02.add(Dense(1, activation=\"relu\"))\n",
    "LSTM_Model_02.compile(optimizer=\"adam\", loss='mean_squared_error')\n",
    "\n",
    "# LSTM 03\n",
    "LSTM_Model_03 = Sequential()\n",
    "LSTM_Model_03.add(LSTM(15, input_dim=1, return_sequences=True))\n",
    "LSTM_Model_03.add(LSTM(15, return_sequences=True))\n",
    "LSTM_Model_03.add(LSTM(15))\n",
    "LSTM_Model_03.add(Dense(1, activation=\"relu\"))\n",
    "LSTM_Model_03.compile(optimizer=\"adam\", loss='mean_squared_error')\n",
    "\n",
    "# LSTM 04\n",
    "LSTM_Model_04 = Sequential()\n",
    "LSTM_Model_04.add(LSTM(15, input_dim=1, return_sequences=True))\n",
    "LSTM_Model_04.add(LSTM(15, return_sequences=True))\n",
    "LSTM_Model_04.add(LSTM(15, return_sequences=True))\n",
    "LSTM_Model_04.add(LSTM(15))\n",
    "LSTM_Model_04.add(Dense(1, activation=\"relu\"))\n",
    "LSTM_Model_04.compile(optimizer=\"adam\", loss='mean_squared_error')\n",
    "\n",
    "\n",
    "LSTM_Models = [LSTM_Model_01, LSTM_Model_02, LSTM_Model_03, LSTM_Model_04]"
   ]
  },
  {
   "cell_type": "code",
   "execution_count": 0,
   "metadata": {
    "colab": {},
    "colab_type": "code",
    "id": "OPsGVdlBGqGY"
   },
   "outputs": [],
   "source": [
    "!cd drive"
   ]
  },
  {
   "cell_type": "code",
   "execution_count": 0,
   "metadata": {
    "colab": {
     "base_uri": "https://localhost:8080/",
     "height": 51
    },
    "colab_type": "code",
    "id": "1IqhoQw1Lm0Y",
    "outputId": "9201af0f-f9b2-4c1d-d0ab-a4d6a1b0dc81"
   },
   "outputs": [
    {
     "name": "stdout",
     "output_type": "stream",
     "text": [
      "\u001b[?25l\r",
      "\u001b[K    1% |▎                               | 10kB 20.1MB/s eta 0:00:01\r",
      "\u001b[K    2% |▋                               | 20kB 5.1MB/s eta 0:00:01\r",
      "\u001b[K    3% |█                               | 30kB 7.2MB/s eta 0:00:01\r",
      "\u001b[K    4% |█▎                              | 40kB 4.5MB/s eta 0:00:01\r",
      "\u001b[K    5% |█▋                              | 51kB 5.5MB/s eta 0:00:01\r",
      "\u001b[K    6% |██                              | 61kB 6.4MB/s eta 0:00:01\r",
      "\u001b[K    7% |██▎                             | 71kB 7.3MB/s eta 0:00:01\r",
      "\u001b[K    8% |██▋                             | 81kB 8.1MB/s eta 0:00:01\r",
      "\u001b[K    9% |███                             | 92kB 8.9MB/s eta 0:00:01\r",
      "\u001b[K    10% |███▎                            | 102kB 7.1MB/s eta 0:00:01\r",
      "\u001b[K    11% |███▋                            | 112kB 7.2MB/s eta 0:00:01\r",
      "\u001b[K    12% |████                            | 122kB 9.4MB/s eta 0:00:01\r",
      "\u001b[K    13% |████▎                           | 133kB 9.4MB/s eta 0:00:01\r",
      "\u001b[K    14% |████▋                           | 143kB 16.4MB/s eta 0:00:01\r",
      "\u001b[K    15% |█████                           | 153kB 16.6MB/s eta 0:00:01\r",
      "\u001b[K    16% |█████▎                          | 163kB 16.5MB/s eta 0:00:01\r",
      "\u001b[K    17% |█████▋                          | 174kB 16.2MB/s eta 0:00:01\r",
      "\u001b[K    18% |██████                          | 184kB 16.5MB/s eta 0:00:01\r",
      "\u001b[K    19% |██████▎                         | 194kB 16.7MB/s eta 0:00:01\r",
      "\u001b[K    20% |██████▋                         | 204kB 43.1MB/s eta 0:00:01\r",
      "\u001b[K    21% |███████                         | 215kB 20.3MB/s eta 0:00:01\r",
      "\u001b[K    22% |███████▎                        | 225kB 20.4MB/s eta 0:00:01\r",
      "\u001b[K    23% |███████▋                        | 235kB 20.6MB/s eta 0:00:01\r",
      "\u001b[K    24% |████████                        | 245kB 20.3MB/s eta 0:00:01\r",
      "\u001b[K    25% |████████▎                       | 256kB 20.3MB/s eta 0:00:01\r",
      "\u001b[K    26% |████████▋                       | 266kB 19.3MB/s eta 0:00:01\r",
      "\u001b[K    27% |█████████                       | 276kB 20.2MB/s eta 0:00:01\r",
      "\u001b[K    29% |█████████▎                      | 286kB 20.1MB/s eta 0:00:01\r",
      "\u001b[K    30% |█████████▋                      | 296kB 20.0MB/s eta 0:00:01\r",
      "\u001b[K    31% |██████████                      | 307kB 20.5MB/s eta 0:00:01\r",
      "\u001b[K    32% |██████████▎                     | 317kB 44.8MB/s eta 0:00:01\r",
      "\u001b[K    33% |██████████▋                     | 327kB 45.4MB/s eta 0:00:01\r",
      "\u001b[K    34% |███████████                     | 337kB 46.6MB/s eta 0:00:01\r",
      "\u001b[K    35% |███████████▎                    | 348kB 43.6MB/s eta 0:00:01\r",
      "\u001b[K    36% |███████████▋                    | 358kB 43.5MB/s eta 0:00:01\r",
      "\u001b[K    37% |████████████                    | 368kB 49.7MB/s eta 0:00:01\r",
      "\u001b[K    38% |████████████▎                   | 378kB 49.8MB/s eta 0:00:01\r",
      "\u001b[K    39% |████████████▋                   | 389kB 50.3MB/s eta 0:00:01\r",
      "\u001b[K    40% |█████████████                   | 399kB 31.7MB/s eta 0:00:01\r",
      "\u001b[K    41% |█████████████▎                  | 409kB 30.3MB/s eta 0:00:01\r",
      "\u001b[K    42% |█████████████▋                  | 419kB 30.4MB/s eta 0:00:01\r",
      "\u001b[K    43% |██████████████                  | 430kB 29.8MB/s eta 0:00:01\r",
      "\u001b[K    44% |██████████████▎                 | 440kB 29.4MB/s eta 0:00:01\r",
      "\u001b[K    45% |██████████████▋                 | 450kB 29.9MB/s eta 0:00:01\r",
      "\u001b[K    46% |███████████████                 | 460kB 29.6MB/s eta 0:00:01\r",
      "\u001b[K    47% |███████████████▎                | 471kB 29.3MB/s eta 0:00:01\r",
      "\u001b[K    48% |███████████████▋                | 481kB 28.8MB/s eta 0:00:01\r",
      "\u001b[K    49% |████████████████                | 491kB 28.4MB/s eta 0:00:01\r",
      "\u001b[K    50% |████████████████▎               | 501kB 42.7MB/s eta 0:00:01\r",
      "\u001b[K    51% |████████████████▋               | 512kB 43.1MB/s eta 0:00:01\r",
      "\u001b[K    52% |█████████████████               | 522kB 44.0MB/s eta 0:00:01\r",
      "\u001b[K    53% |█████████████████▎              | 532kB 45.0MB/s eta 0:00:01\r",
      "\u001b[K    54% |█████████████████▋              | 542kB 45.7MB/s eta 0:00:01\r",
      "\u001b[K    55% |██████████████████              | 552kB 50.0MB/s eta 0:00:01\r",
      "\u001b[K    57% |██████████████████▎             | 563kB 49.6MB/s eta 0:00:01\r",
      "\u001b[K    58% |██████████████████▋             | 573kB 48.3MB/s eta 0:00:01\r",
      "\u001b[K    59% |███████████████████             | 583kB 49.0MB/s eta 0:00:01\r",
      "\u001b[K    60% |███████████████████▎            | 593kB 49.1MB/s eta 0:00:01\r",
      "\u001b[K    61% |███████████████████▋            | 604kB 49.0MB/s eta 0:00:01\r",
      "\u001b[K    62% |████████████████████            | 614kB 52.8MB/s eta 0:00:01\r",
      "\u001b[K    63% |████████████████████▎           | 624kB 52.5MB/s eta 0:00:01\r",
      "\u001b[K    64% |████████████████████▋           | 634kB 51.2MB/s eta 0:00:01\r",
      "\u001b[K    65% |█████████████████████           | 645kB 50.1MB/s eta 0:00:01\r",
      "\u001b[K    66% |█████████████████████▎          | 655kB 48.9MB/s eta 0:00:01\r",
      "\u001b[K    67% |█████████████████████▋          | 665kB 39.8MB/s eta 0:00:01\r",
      "\u001b[K    68% |██████████████████████          | 675kB 40.5MB/s eta 0:00:01\r",
      "\u001b[K    69% |██████████████████████▎         | 686kB 40.9MB/s eta 0:00:01\r",
      "\u001b[K    70% |██████████████████████▋         | 696kB 41.2MB/s eta 0:00:01\r",
      "\u001b[K    71% |███████████████████████         | 706kB 40.3MB/s eta 0:00:01\r",
      "\u001b[K    72% |███████████████████████▎        | 716kB 40.1MB/s eta 0:00:01\r",
      "\u001b[K    73% |███████████████████████▋        | 727kB 40.3MB/s eta 0:00:01\r",
      "\u001b[K    74% |████████████████████████        | 737kB 40.8MB/s eta 0:00:01\r",
      "\u001b[K    75% |████████████████████████▎       | 747kB 41.5MB/s eta 0:00:01\r",
      "\u001b[K    76% |████████████████████████▋       | 757kB 41.3MB/s eta 0:00:01\r",
      "\u001b[K    77% |████████████████████████▉       | 768kB 52.0MB/s eta 0:00:01\r",
      "\u001b[K    78% |█████████████████████████▏      | 778kB 53.1MB/s eta 0:00:01\r",
      "\u001b[K    79% |█████████████████████████▌      | 788kB 53.1MB/s eta 0:00:01\r",
      "\u001b[K    80% |█████████████████████████▉      | 798kB 54.1MB/s eta 0:00:01\r",
      "\u001b[K    81% |██████████████████████████▏     | 808kB 55.1MB/s eta 0:00:01\r",
      "\u001b[K    82% |██████████████████████████▌     | 819kB 53.6MB/s eta 0:00:01\r",
      "\u001b[K    83% |██████████████████████████▉     | 829kB 53.9MB/s eta 0:00:01\r",
      "\u001b[K    85% |███████████████████████████▏    | 839kB 54.9MB/s eta 0:00:01\r",
      "\u001b[K    86% |███████████████████████████▌    | 849kB 55.2MB/s eta 0:00:01\r",
      "\u001b[K    87% |███████████████████████████▉    | 860kB 50.5MB/s eta 0:00:01\r",
      "\u001b[K    88% |████████████████████████████▏   | 870kB 50.6MB/s eta 0:00:01\r",
      "\u001b[K    89% |████████████████████████████▌   | 880kB 51.3MB/s eta 0:00:01\r",
      "\u001b[K    90% |████████████████████████████▉   | 890kB 51.6MB/s eta 0:00:01\r",
      "\u001b[K    91% |█████████████████████████████▏  | 901kB 51.2MB/s eta 0:00:01\r",
      "\u001b[K    92% |█████████████████████████████▌  | 911kB 51.5MB/s eta 0:00:01\r",
      "\u001b[K    93% |█████████████████████████████▉  | 921kB 52.0MB/s eta 0:00:01\r",
      "\u001b[K    94% |██████████████████████████████▏ | 931kB 52.1MB/s eta 0:00:01\r",
      "\u001b[K    95% |██████████████████████████████▌ | 942kB 52.2MB/s eta 0:00:01\r",
      "\u001b[K    96% |██████████████████████████████▉ | 952kB 51.9MB/s eta 0:00:01\r",
      "\u001b[K    97% |███████████████████████████████▏| 962kB 59.0MB/s eta 0:00:01\r",
      "\u001b[K    98% |███████████████████████████████▌| 972kB 59.1MB/s eta 0:00:01\r",
      "\u001b[K    99% |███████████████████████████████▉| 983kB 56.6MB/s eta 0:00:01\r",
      "\u001b[K    100% |████████████████████████████████| 993kB 19.5MB/s \n",
      "\u001b[?25h  Building wheel for PyDrive (setup.py) ... \u001b[?25ldone\n",
      "\u001b[?25h"
     ]
    }
   ],
   "source": [
    "!pip install -U -q PyDrive\n",
    "\n",
    "from pydrive.auth import GoogleAuth\n",
    "from pydrive.drive import GoogleDrive\n",
    "from google.colab import auth\n",
    "from oauth2client.client import GoogleCredentials\n",
    "  \n",
    "def upload_to_drive(file_name):\n",
    "  # 1. Authenticate and create the PyDrive client.\n",
    "  auth.authenticate_user()\n",
    "  gauth = GoogleAuth()\n",
    "  gauth.credentials = GoogleCredentials.get_application_default()\n",
    "  drive = GoogleDrive(gauth)\n",
    "  \n",
    "  file = drive.CreateFile()\n",
    "  # Read file and set it as a content of this instance.\n",
    "  file.SetContentFile(file_name)\n",
    "  file.Upload() # Upload the file"
   ]
  },
  {
   "cell_type": "code",
   "execution_count": 0,
   "metadata": {
    "colab": {},
    "colab_type": "code",
    "id": "brdL3bbjM9Ks"
   },
   "outputs": [],
   "source": [
    "import os\n",
    "def train_LSTM_Models(LSTM_Models):\n",
    "  \n",
    "  for file_num in range(1):\n",
    "    data_size = 10000\n",
    "    x_train, y_train = create_training_data(file_num, data_size)\n",
    "    for number, lstm_model in enumerate(LSTM_Models):\n",
    "      drive_path = \"drive/'My Drive'/\" + \"Weights_DataSize_\" + str(data_size) + \"_LSTM_Model_0\" + str(number+1) + \".h5\"\n",
    "      os.system(\"cp \" + '/content/gdrive/My Drive/<' + drive_path + '> ' + \"<Weights_DataSize_\" + str(data_size) + \"_LSTM_Model_0\" + str(number+1) + \".h5>\")\n",
    "      lstm_model.load_weights(\"Weights_DataSize_\" + str(data_size) + \"_LSTM_Model_0\" + str(number+1) + \".h5\")\n",
    "      lstm_model.fit(x_train[0:1], y_train[0:1])\n",
    "      lstm_model.save_weights(\"Weights_DataSize_\" + str(data_size) + \"_LSTM_Model_0\" + str(number+1) + \".h5\")\n",
    "      upload_to_drive(\"Weights_DataSize_\" + str(data_size) + \"_LSTM_Model_0\" + str(number+1) + \".h5\")\n",
    "      "
   ]
  },
  {
   "cell_type": "code",
   "execution_count": 0,
   "metadata": {
    "colab": {
     "base_uri": "https://localhost:8080/",
     "height": 34
    },
    "colab_type": "code",
    "id": "OZ-QqPF2NoLV",
    "outputId": "724858b5-0397-4f92-8a37-badadac3e015"
   },
   "outputs": [
    {
     "name": "stdout",
     "output_type": "stream",
     "text": [
      "<class 'list'> 10000\n"
     ]
    }
   ],
   "source": [
    "train_LSTM_Models(LSTM_Models)"
   ]
  },
  {
   "cell_type": "markdown",
   "metadata": {
    "colab_type": "text",
    "id": "CtkmmnZhZIHw"
   },
   "source": [
    "### Support Vector Machines"
   ]
  },
  {
   "cell_type": "code",
   "execution_count": 0,
   "metadata": {
    "colab": {},
    "colab_type": "code",
    "id": "NFLpQeJLZUEZ"
   },
   "outputs": [],
   "source": []
  },
  {
   "cell_type": "code",
   "execution_count": 0,
   "metadata": {
    "colab": {},
    "colab_type": "code",
    "id": "_u6GnpYVZbp-"
   },
   "outputs": [],
   "source": []
  },
  {
   "cell_type": "markdown",
   "metadata": {
    "colab_type": "text",
    "id": "ciXt1cGcZx9g"
   },
   "source": [
    "### Neural Ordinary Differential Equations"
   ]
  },
  {
   "cell_type": "code",
   "execution_count": 0,
   "metadata": {
    "colab": {},
    "colab_type": "code",
    "id": "5oyp5W1kZ1Hu"
   },
   "outputs": [],
   "source": []
  },
  {
   "cell_type": "markdown",
   "metadata": {
    "colab_type": "text",
    "id": "qinjq88RZfZ7"
   },
   "source": [
    "## Training Final Model"
   ]
  },
  {
   "cell_type": "code",
   "execution_count": 0,
   "metadata": {
    "colab": {},
    "colab_type": "code",
    "id": "kjwuLA9AZj9n"
   },
   "outputs": [],
   "source": []
  }
 ],
 "metadata": {
  "accelerator": "GPU",
  "colab": {
   "collapsed_sections": [
    "CtkmmnZhZIHw",
    "ciXt1cGcZx9g",
    "qinjq88RZfZ7"
   ],
   "include_colab_link": true,
   "name": "LANL-Earthquake-Colab.ipynb",
   "provenance": [],
   "version": "0.3.2"
  },
  "kernelspec": {
   "display_name": "Python 3",
   "language": "python",
   "name": "python3"
  },
  "language_info": {
   "codemirror_mode": {
    "name": "ipython",
    "version": 3
   },
   "file_extension": ".py",
   "mimetype": "text/x-python",
   "name": "python",
   "nbconvert_exporter": "python",
   "pygments_lexer": "ipython3",
   "version": "3.6.5"
  }
 },
 "nbformat": 4,
 "nbformat_minor": 1
}
