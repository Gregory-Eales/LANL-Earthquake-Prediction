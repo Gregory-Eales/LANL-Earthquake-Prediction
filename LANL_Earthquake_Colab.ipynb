{
  "nbformat": 4,
  "nbformat_minor": 0,
  "metadata": {
    "colab": {
      "name": "LANL-Earthquake-Colab.ipynb",
      "version": "0.3.2",
      "provenance": [],
      "collapsed_sections": [
        "CtkmmnZhZIHw",
        "ciXt1cGcZx9g",
        "qinjq88RZfZ7"
      ],
      "include_colab_link": true
    },
    "kernelspec": {
      "name": "python3",
      "display_name": "Python 3"
    },
    "accelerator": "GPU"
  },
  "cells": [
    {
      "cell_type": "markdown",
      "metadata": {
        "id": "view-in-github",
        "colab_type": "text"
      },
      "source": [
        "<a href=\"https://colab.research.google.com/github/Gregory-Eales/LANL-Earthquake-Prediction/blob/master/LANL_Earthquake_Colab.ipynb\" target=\"_parent\"><img src=\"https://colab.research.google.com/assets/colab-badge.svg\" alt=\"Open In Colab\"/></a>"
      ]
    },
    {
      "metadata": {
        "id": "_HJmKtZ_PYsm",
        "colab_type": "text"
      },
      "cell_type": "markdown",
      "source": [
        "# LANL Earthquake Prediction on Colab"
      ]
    },
    {
      "metadata": {
        "id": "7TzrwglzQcu0",
        "colab_type": "text"
      },
      "cell_type": "markdown",
      "source": [
        "## To Do:\n",
        "- Create Data  Loading Functions\n",
        "- Create Grid Search Functions: Dimensions (model, parameters,  data input size)\n",
        "- "
      ]
    },
    {
      "metadata": {
        "id": "yYhnc0EJPh-8",
        "colab_type": "text"
      },
      "cell_type": "markdown",
      "source": [
        "## Setting up"
      ]
    },
    {
      "metadata": {
        "id": "p1uEzwbOPmA6",
        "colab_type": "text"
      },
      "cell_type": "markdown",
      "source": [
        "### Import Dependencies"
      ]
    },
    {
      "metadata": {
        "id": "9ytiiYjzJtj0",
        "colab_type": "code",
        "colab": {}
      },
      "cell_type": "code",
      "source": [
        "# import dependencies\n",
        "import numpy as np\n",
        "import pandas as pd\n",
        "import tensorflow as tf"
      ],
      "execution_count": 0,
      "outputs": []
    },
    {
      "metadata": {
        "id": "JfBXjF6pPw0b",
        "colab_type": "text"
      },
      "cell_type": "markdown",
      "source": [
        "### Mount Drive for  Cleaned Data Access"
      ]
    },
    {
      "metadata": {
        "id": "4WNsWO1EPU3E",
        "colab_type": "code",
        "colab": {
          "base_uri": "https://localhost:8080/",
          "height": 122
        },
        "outputId": "719c783d-f55a-490a-821f-e09d9bd56a50"
      },
      "cell_type": "code",
      "source": [
        "# mount google drive\n",
        "from google.colab import drive\n",
        "drive.mount('/content/drive')"
      ],
      "execution_count": 8,
      "outputs": [
        {
          "output_type": "stream",
          "text": [
            "Go to this URL in a browser: https://accounts.google.com/o/oauth2/auth?client_id=947318989803-6bn6qk8qdgf4n4g3pfee6491hc0brc4i.apps.googleusercontent.com&redirect_uri=urn%3Aietf%3Awg%3Aoauth%3A2.0%3Aoob&scope=email%20https%3A%2F%2Fwww.googleapis.com%2Fauth%2Fdocs.test%20https%3A%2F%2Fwww.googleapis.com%2Fauth%2Fdrive%20https%3A%2F%2Fwww.googleapis.com%2Fauth%2Fdrive.photos.readonly%20https%3A%2F%2Fwww.googleapis.com%2Fauth%2Fpeopleapi.readonly&response_type=code\n",
            "\n",
            "Enter your authorization code:\n",
            "··········\n",
            "Mounted at /content/drive\n"
          ],
          "name": "stdout"
        }
      ]
    },
    {
      "metadata": {
        "id": "9wb5rxa2skFE",
        "colab_type": "code",
        "colab": {}
      },
      "cell_type": "code",
      "source": [
        "# set data paths from drive\n",
        "training_data_path =  \"drive/'My Drive'/LANL-Data-Colab/LANL-Training-Data\"\n",
        "testing_data_path = \"drive/'My Drive'/LANL-Data-Colab/LANL-Test-Data\""
      ],
      "execution_count": 0,
      "outputs": []
    },
    {
      "metadata": {
        "id": "5mLgz6B2P_5p",
        "colab_type": "text"
      },
      "cell_type": "markdown",
      "source": [
        "### Define Data Loading Functions"
      ]
    },
    {
      "metadata": {
        "id": "4RvspK6MJ4Ek",
        "colab_type": "code",
        "colab": {}
      },
      "cell_type": "code",
      "source": [
        "# loading data functions\n",
        "\n",
        "def load_to_pd_file(path):\n",
        "  pass"
      ],
      "execution_count": 0,
      "outputs": []
    },
    {
      "metadata": {
        "id": "MuM8sWROQFy8",
        "colab_type": "text"
      },
      "cell_type": "markdown",
      "source": [
        "### Define Training Functions"
      ]
    },
    {
      "metadata": {
        "id": "gl3ZznayKWUs",
        "colab_type": "code",
        "colab": {}
      },
      "cell_type": "code",
      "source": [
        "# model testing functions\n",
        "\n",
        "# This is where different models will be trained\n",
        "# LSTM with diffrents depths, architectures, and varying input sizes\n",
        "# save weights every so often\n",
        "\n",
        "def train_models():\n",
        "  pass"
      ],
      "execution_count": 0,
      "outputs": []
    },
    {
      "metadata": {
        "id": "fog-1YC3Y4Qe",
        "colab_type": "text"
      },
      "cell_type": "markdown",
      "source": [
        "## Model Evaluation"
      ]
    },
    {
      "metadata": {
        "id": "cHTMR-_-QOdN",
        "colab_type": "text"
      },
      "cell_type": "markdown",
      "source": [
        "### LSTM Neural Networks"
      ]
    },
    {
      "metadata": {
        "id": "1Ia8oJJmpgfI",
        "colab_type": "code",
        "colab": {
          "base_uri": "https://localhost:8080/",
          "height": 34
        },
        "outputId": "aa934055-ed0a-4267-a0e6-3e2994292fde"
      },
      "cell_type": "code",
      "source": [
        "from keras.models import Sequential\n",
        "from keras.layers import LSTM, Dense, Dropout, Masking, Embedding, RNN"
      ],
      "execution_count": 3,
      "outputs": [
        {
          "output_type": "stream",
          "text": [
            "Using TensorFlow backend.\n"
          ],
          "name": "stderr"
        }
      ]
    },
    {
      "metadata": {
        "id": "rTGXOjNVM7xd",
        "colab_type": "code",
        "colab": {}
      },
      "cell_type": "code",
      "source": [
        "# define LSTM Models for training\n",
        "\n",
        "# LSTM 01\n",
        "LSTM_Model_01 = Sequential()\n",
        "LSTM_Model_01.add(LSTM(15, input_dim=1, return_sequences=True))\n",
        "LSTM_Model_01.add(LSTM(15))\n",
        "LSTM_Model_01.add(Dense(15, activation=\"relu\"))\n",
        "LSTM_Model_01.add(Dense(5, activation=\"relu\"))\n",
        "LSTM_Model_01.add(Dense(1, activation=\"relu\"))\n",
        "LSTM_Model_01.compile(optimizer=\"adam\", loss='mean_squared_error')\n",
        "\n",
        "# LSTM 02\n",
        "LSTM_Model_02 = Sequential()\n",
        "LSTM_Model_02.add(LSTM(15, input_dim=1, return_sequences=True))\n",
        "LSTM_Model_02.add(LSTM(15))\n",
        "LSTM_Model_02.add(Dense(15, activation=\"relu\"))\n",
        "LSTM_Model_02.add(Dense(1, activation=\"relu\"))\n",
        "LSTM_Model_02.compile(optimizer=\"adam\", loss='mean_squared_error')\n",
        "\n",
        "# LSTM 03\n",
        "LSTM_Model_03 = Sequential()\n",
        "LSTM_Model_03.add(LSTM(15, input_dim=1, return_sequences=True))\n",
        "LSTM_Model_03.add(LSTM(15, return_sequences=True))\n",
        "LSTM_Model_03.add(LSTM(15))\n",
        "LSTM_Model_03.add(Dense(1, activation=\"relu\"))\n",
        "LSTM_Model_03.compile(optimizer=\"adam\", loss='mean_squared_error')\n",
        "\n",
        "# LSTM 04\n",
        "LSTM_Model_04 = Sequential()\n",
        "LSTM_Model_04.add(LSTM(15, input_dim=1, return_sequences=True))\n",
        "LSTM_Model_04.add(LSTM(15, return_sequences=True))\n",
        "LSTM_Model_04.add(LSTM(15, return_sequences=True))\n",
        "LSTM_Model_04.add(LSTM(15))\n",
        "LSTM_Model_04.add(Dense(1, activation=\"relu\"))\n",
        "LSTM_Model_04.compile(optimizer=\"adam\", loss='mean_squared_error')\n",
        "\n",
        "\n",
        "LSTM_Models = [LSTM_Model_01, LSTM_Model_02, LSTM_Model_03, LSTM_Model_04]"
      ],
      "execution_count": 0,
      "outputs": []
    },
    {
      "metadata": {
        "id": "brdL3bbjM9Ks",
        "colab_type": "code",
        "colab": {}
      },
      "cell_type": "code",
      "source": [
        "def train_LSTM_Models(x, y, LSTM_Models):\n",
        "  \n",
        "  for lstm_model in LSTM_Models:\n",
        "    lstm_model.fit(x, y)"
      ],
      "execution_count": 0,
      "outputs": []
    },
    {
      "metadata": {
        "id": "OZ-QqPF2NoLV",
        "colab_type": "code",
        "colab": {
          "base_uri": "https://localhost:8080/",
          "height": 34
        },
        "outputId": "4ded0d6b-0170-4c12-ff98-b9596961091b"
      },
      "cell_type": "code",
      "source": [
        ""
      ],
      "execution_count": 1,
      "outputs": [
        {
          "output_type": "stream",
          "text": [
            "sample_data\n"
          ],
          "name": "stdout"
        }
      ]
    },
    {
      "metadata": {
        "id": "CtkmmnZhZIHw",
        "colab_type": "text"
      },
      "cell_type": "markdown",
      "source": [
        "### Support Vector Machines"
      ]
    },
    {
      "metadata": {
        "id": "NFLpQeJLZUEZ",
        "colab_type": "code",
        "colab": {}
      },
      "cell_type": "code",
      "source": [
        ""
      ],
      "execution_count": 0,
      "outputs": []
    },
    {
      "metadata": {
        "id": "_u6GnpYVZbp-",
        "colab_type": "code",
        "colab": {}
      },
      "cell_type": "code",
      "source": [
        ""
      ],
      "execution_count": 0,
      "outputs": []
    },
    {
      "metadata": {
        "id": "ciXt1cGcZx9g",
        "colab_type": "text"
      },
      "cell_type": "markdown",
      "source": [
        "### Neural Ordinary Differential Equations"
      ]
    },
    {
      "metadata": {
        "id": "5oyp5W1kZ1Hu",
        "colab_type": "code",
        "colab": {}
      },
      "cell_type": "code",
      "source": [
        ""
      ],
      "execution_count": 0,
      "outputs": []
    },
    {
      "metadata": {
        "id": "qinjq88RZfZ7",
        "colab_type": "text"
      },
      "cell_type": "markdown",
      "source": [
        "## Training Final Model"
      ]
    },
    {
      "metadata": {
        "id": "kjwuLA9AZj9n",
        "colab_type": "code",
        "colab": {}
      },
      "cell_type": "code",
      "source": [
        ""
      ],
      "execution_count": 0,
      "outputs": []
    }
  ]
}