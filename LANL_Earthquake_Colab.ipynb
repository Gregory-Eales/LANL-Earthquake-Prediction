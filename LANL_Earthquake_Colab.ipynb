{
  "nbformat": 4,
  "nbformat_minor": 0,
  "metadata": {
    "colab": {
      "name": "LANL-Earthquake-Colab.ipynb",
      "version": "0.3.2",
      "provenance": [],
      "collapsed_sections": [
        "CtkmmnZhZIHw",
        "ciXt1cGcZx9g",
        "qinjq88RZfZ7"
      ],
      "include_colab_link": true
    },
    "kernelspec": {
      "name": "python3",
      "display_name": "Python 3"
    },
    "accelerator": "GPU"
  },
  "cells": [
    {
      "cell_type": "markdown",
      "metadata": {
        "id": "view-in-github",
        "colab_type": "text"
      },
      "source": [
        "<a href=\"https://colab.research.google.com/github/Gregory-Eales/LANL-Earthquake-Prediction/blob/master/LANL_Earthquake_Colab.ipynb\" target=\"_parent\"><img src=\"https://colab.research.google.com/assets/colab-badge.svg\" alt=\"Open In Colab\"/></a>"
      ]
    },
    {
      "metadata": {
        "id": "_HJmKtZ_PYsm",
        "colab_type": "text"
      },
      "cell_type": "markdown",
      "source": [
        "# LANL Earthquake Prediction on Colab"
      ]
    },
    {
      "metadata": {
        "id": "7TzrwglzQcu0",
        "colab_type": "text"
      },
      "cell_type": "markdown",
      "source": [
        "## To Do:\n",
        "- Create Data  Loading Functions\n",
        "- Create Grid Search Functions: Dimensions (model, parameters,  data input size)\n",
        "- "
      ]
    },
    {
      "metadata": {
        "id": "yYhnc0EJPh-8",
        "colab_type": "text"
      },
      "cell_type": "markdown",
      "source": [
        "## Setting up"
      ]
    },
    {
      "metadata": {
        "id": "p1uEzwbOPmA6",
        "colab_type": "text"
      },
      "cell_type": "markdown",
      "source": [
        "### Import Dependencies"
      ]
    },
    {
      "metadata": {
        "id": "9ytiiYjzJtj0",
        "colab_type": "code",
        "colab": {}
      },
      "cell_type": "code",
      "source": [
        "# import dependencies\n",
        "import numpy as np\n",
        "import pandas as pd\n",
        "import tensorflow as tf"
      ],
      "execution_count": 0,
      "outputs": []
    },
    {
      "metadata": {
        "id": "JfBXjF6pPw0b",
        "colab_type": "text"
      },
      "cell_type": "markdown",
      "source": [
        "### Mount Drive for  Cleaned Data Access"
      ]
    },
    {
      "metadata": {
        "id": "4WNsWO1EPU3E",
        "colab_type": "code",
        "colab": {
          "base_uri": "https://localhost:8080/",
          "height": 34
        },
        "outputId": "3ba5006d-dd7b-478d-b0db-552950c7f235"
      },
      "cell_type": "code",
      "source": [
        "# mount google drive\n",
        "from google.colab import drive\n",
        "drive.mount('/content/drive')"
      ],
      "execution_count": 4,
      "outputs": [
        {
          "output_type": "stream",
          "text": [
            "Drive already mounted at /content/drive; to attempt to forcibly remount, call drive.mount(\"/content/drive\", force_remount=True).\n"
          ],
          "name": "stdout"
        }
      ]
    },
    {
      "metadata": {
        "id": "5mLgz6B2P_5p",
        "colab_type": "text"
      },
      "cell_type": "markdown",
      "source": [
        "### Define Data Loading Functions"
      ]
    },
    {
      "metadata": {
        "id": "4RvspK6MJ4Ek",
        "colab_type": "code",
        "colab": {}
      },
      "cell_type": "code",
      "source": [
        "# set data paths from drive\n",
        "training_data_path =  \"drive/My Drive/LANL-Data-Colab/LANL-Training-Data\"\n",
        "testing_data_path = \"drive/My Drive/LANL-Data-Colab/LANL-Test-Data\"\n",
        "\n",
        "\n",
        "def get_file_number(n):\n",
        "    n = str(n)\n",
        "    n = \"0\"*(3-len(n)) + n\n",
        "    return n\n",
        "\n",
        "def load_data(number):\n",
        "    path = \"drive/My Drive/LANL-Data-Colab/LANL-Training-Data/Training-Data\"\n",
        "    path = path + get_file_number(number) + \".csv\"\n",
        "    train_df = pd.read_csv(path, dtype={'acoustic_data': np.int8, 'time_to_failure': np.float32})\n",
        "    return train_df\n",
        "\n",
        "def create_training_data(number, data_length):\n",
        "    train_df = load_data(number)\n",
        "    samples = train_df.shape[0]//data_length\n",
        "    X = train_df[\"acoustic_data\"].as_matrix()\n",
        "    Y = train_df[\"time_to_failure\"].as_matrix()\n",
        "    del train_df\n",
        "    train_df = None\n",
        "    x_train = []\n",
        "    y_train = []\n",
        "    for i in range(samples):\n",
        "        x_train.append(X[i*data_length:(i+1)*data_length].tolist())\n",
        "        y_train.append(np.sum(Y[i*data_length:(i+1)*data_length].tolist()))\n",
        "    x_train.append(X[-1*data_length -1:-1].tolist())\n",
        "    y_train.append(np.sum(Y[-1*data_length-1:-1]))\n",
        "    print(type(x_train), len(x_train[-1]))\n",
        "    x_train = np.reshape(np.array(x_train), [samples+1, data_length, 1])\n",
        "    y_train = np.reshape(np.array(y_train), [samples+1, 1])\n",
        "    y_train = y_train/data_length\n",
        "    return x_train, y_train"
      ],
      "execution_count": 0,
      "outputs": []
    },
    {
      "metadata": {
        "id": "LjGjf5Jn1yFe",
        "colab_type": "code",
        "colab": {
          "base_uri": "https://localhost:8080/",
          "height": 34
        },
        "outputId": "575ee83c-6dbd-4df7-9ce9-cbc451fce868"
      },
      "cell_type": "code",
      "source": [
        "x, y = create_training_data(1, 10000)"
      ],
      "execution_count": 32,
      "outputs": [
        {
          "output_type": "stream",
          "text": [
            "<class 'list'> 10000\n"
          ],
          "name": "stdout"
        }
      ]
    },
    {
      "metadata": {
        "id": "fog-1YC3Y4Qe",
        "colab_type": "text"
      },
      "cell_type": "markdown",
      "source": [
        "## Model Evaluation"
      ]
    },
    {
      "metadata": {
        "id": "cHTMR-_-QOdN",
        "colab_type": "text"
      },
      "cell_type": "markdown",
      "source": [
        "### LSTM Neural Networks"
      ]
    },
    {
      "metadata": {
        "id": "1Ia8oJJmpgfI",
        "colab_type": "code",
        "colab": {
          "base_uri": "https://localhost:8080/",
          "height": 34
        },
        "outputId": "ee5d60a0-fd4e-4114-aee0-666a4d4867e5"
      },
      "cell_type": "code",
      "source": [
        "from keras.models import Sequential\n",
        "from keras.layers import LSTM, Dense, Dropout, Masking, Embedding, RNN"
      ],
      "execution_count": 7,
      "outputs": [
        {
          "output_type": "stream",
          "text": [
            "Using TensorFlow backend.\n"
          ],
          "name": "stderr"
        }
      ]
    },
    {
      "metadata": {
        "id": "rTGXOjNVM7xd",
        "colab_type": "code",
        "colab": {}
      },
      "cell_type": "code",
      "source": [
        "# define LSTM Models for training\n",
        "\n",
        "# LSTM 01\n",
        "LSTM_Model_01 = Sequential()\n",
        "LSTM_Model_01.add(LSTM(15, input_dim=1, return_sequences=True))\n",
        "LSTM_Model_01.add(LSTM(15))\n",
        "LSTM_Model_01.add(Dense(15, activation=\"relu\"))\n",
        "LSTM_Model_01.add(Dense(5, activation=\"relu\"))\n",
        "LSTM_Model_01.add(Dense(1, activation=\"relu\"))\n",
        "LSTM_Model_01.compile(optimizer=\"adam\", loss='mean_squared_error')\n",
        "\n",
        "# LSTM 02\n",
        "LSTM_Model_02 = Sequential()\n",
        "LSTM_Model_02.add(LSTM(15, input_dim=1, return_sequences=True))\n",
        "LSTM_Model_02.add(LSTM(15))\n",
        "LSTM_Model_02.add(Dense(15, activation=\"relu\"))\n",
        "LSTM_Model_02.add(Dense(1, activation=\"relu\"))\n",
        "LSTM_Model_02.compile(optimizer=\"adam\", loss='mean_squared_error')\n",
        "\n",
        "# LSTM 03\n",
        "LSTM_Model_03 = Sequential()\n",
        "LSTM_Model_03.add(LSTM(15, input_dim=1, return_sequences=True))\n",
        "LSTM_Model_03.add(LSTM(15, return_sequences=True))\n",
        "LSTM_Model_03.add(LSTM(15))\n",
        "LSTM_Model_03.add(Dense(1, activation=\"relu\"))\n",
        "LSTM_Model_03.compile(optimizer=\"adam\", loss='mean_squared_error')\n",
        "\n",
        "# LSTM 04\n",
        "LSTM_Model_04 = Sequential()\n",
        "LSTM_Model_04.add(LSTM(15, input_dim=1, return_sequences=True))\n",
        "LSTM_Model_04.add(LSTM(15, return_sequences=True))\n",
        "LSTM_Model_04.add(LSTM(15, return_sequences=True))\n",
        "LSTM_Model_04.add(LSTM(15))\n",
        "LSTM_Model_04.add(Dense(1, activation=\"relu\"))\n",
        "LSTM_Model_04.compile(optimizer=\"adam\", loss='mean_squared_error')\n",
        "\n",
        "\n",
        "LSTM_Models = [LSTM_Model_01, LSTM_Model_02, LSTM_Model_03, LSTM_Model_04]"
      ],
      "execution_count": 0,
      "outputs": []
    },
    {
      "metadata": {
        "id": "brdL3bbjM9Ks",
        "colab_type": "code",
        "colab": {}
      },
      "cell_type": "code",
      "source": [
        "def train_LSTM_Models(LSTM_Models):\n",
        "  \n",
        "  for file_num in range(1):\n",
        "    x_train, y_train = create_training_data(file_num, 10000)\n",
        "    for number, lstm_model in enumerate(LSTM_Models):\n",
        "      lstm_model.load_weights(\"LSTM_Model_0\" + str(number+1) + \".h5\")\n",
        "      lstm_model.fit(x_train[0:1], y_train[0:1])\n",
        "      lstm_model.save_weights(\"LSTM_Model_0\" + str(number+1) + \".h5\")"
      ],
      "execution_count": 0,
      "outputs": []
    },
    {
      "metadata": {
        "id": "OZ-QqPF2NoLV",
        "colab_type": "code",
        "colab": {
          "base_uri": "https://localhost:8080/",
          "height": 170
        },
        "outputId": "9fcfa665-04c2-4c92-8516-cfd044737939"
      },
      "cell_type": "code",
      "source": [
        "train_LSTM_Models(LSTM_Models)"
      ],
      "execution_count": 15,
      "outputs": [
        {
          "output_type": "stream",
          "text": [
            "<class 'list'> 10000\n",
            "Epoch 1/1\n",
            "1/1 [==============================] - 31s 31s/step - loss: 1.6319\n",
            "Epoch 1/1\n",
            "1/1 [==============================] - 31s 31s/step - loss: 2.1559\n",
            "Epoch 1/1\n",
            "1/1 [==============================] - 46s 46s/step - loss: 1.4090\n",
            "Epoch 1/1\n",
            "1/1 [==============================] - 62s 62s/step - loss: 1.8885\n"
          ],
          "name": "stdout"
        }
      ]
    },
    {
      "metadata": {
        "id": "PLQiKO6f9oQ-",
        "colab_type": "code",
        "colab": {
          "base_uri": "https://localhost:8080/",
          "height": 68
        },
        "outputId": "808e2860-3223-457a-cf82-bbd836c6ca6d"
      },
      "cell_type": "code",
      "source": [
        "!ls"
      ],
      "execution_count": 16,
      "outputs": [
        {
          "output_type": "stream",
          "text": [
            "drive\t\t  LSTM_Model_03.h5  LSTM_Model2.h5  sample_data\n",
            "LSTM_Model_01.h5  LSTM_Model_04.h5  LSTM_Model3.h5\n",
            "LSTM_Model_02.h5  LSTM_Model1.h5    LSTM_Model4.h5\n"
          ],
          "name": "stdout"
        }
      ]
    },
    {
      "metadata": {
        "id": "CtkmmnZhZIHw",
        "colab_type": "text"
      },
      "cell_type": "markdown",
      "source": [
        "### Support Vector Machines"
      ]
    },
    {
      "metadata": {
        "id": "NFLpQeJLZUEZ",
        "colab_type": "code",
        "colab": {}
      },
      "cell_type": "code",
      "source": [
        ""
      ],
      "execution_count": 0,
      "outputs": []
    },
    {
      "metadata": {
        "id": "_u6GnpYVZbp-",
        "colab_type": "code",
        "colab": {}
      },
      "cell_type": "code",
      "source": [
        ""
      ],
      "execution_count": 0,
      "outputs": []
    },
    {
      "metadata": {
        "id": "ciXt1cGcZx9g",
        "colab_type": "text"
      },
      "cell_type": "markdown",
      "source": [
        "### Neural Ordinary Differential Equations"
      ]
    },
    {
      "metadata": {
        "id": "5oyp5W1kZ1Hu",
        "colab_type": "code",
        "colab": {}
      },
      "cell_type": "code",
      "source": [
        ""
      ],
      "execution_count": 0,
      "outputs": []
    },
    {
      "metadata": {
        "id": "qinjq88RZfZ7",
        "colab_type": "text"
      },
      "cell_type": "markdown",
      "source": [
        "## Training Final Model"
      ]
    },
    {
      "metadata": {
        "id": "kjwuLA9AZj9n",
        "colab_type": "code",
        "colab": {}
      },
      "cell_type": "code",
      "source": [
        ""
      ],
      "execution_count": 0,
      "outputs": []
    }
  ]
}