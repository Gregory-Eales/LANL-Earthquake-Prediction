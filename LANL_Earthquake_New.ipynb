{
 "cells": [
  {
   "cell_type": "markdown",
   "metadata": {
    "colab_type": "text",
    "id": "view-in-github"
   },
   "source": [
    "<a href=\"https://colab.research.google.com/github/Gregory-Eales/LANL-Earthquake-Prediction/blob/master/LANL_Earthquake_Colab.ipynb\" target=\"_parent\"><img src=\"https://colab.research.google.com/assets/colab-badge.svg\" alt=\"Open In Colab\"/></a>"
   ]
  },
  {
   "cell_type": "markdown",
   "metadata": {
    "colab_type": "text",
    "id": "_HJmKtZ_PYsm"
   },
   "source": [
    "# LANL Earthquake Prediction on Colab"
   ]
  },
  {
   "cell_type": "markdown",
   "metadata": {
    "colab_type": "text",
    "id": "7TzrwglzQcu0"
   },
   "source": [
    "## To Do:\n",
    "- Create Data  Loading Functions\n",
    "- Create Grid Search Functions: Dimensions (model, parameters,  data input size)\n",
    "- "
   ]
  },
  {
   "cell_type": "markdown",
   "metadata": {
    "colab_type": "text",
    "id": "yYhnc0EJPh-8"
   },
   "source": [
    "## Setting up"
   ]
  },
  {
   "cell_type": "markdown",
   "metadata": {
    "colab_type": "text",
    "id": "p1uEzwbOPmA6"
   },
   "source": [
    "### Import Dependencies"
   ]
  },
  {
   "cell_type": "code",
   "execution_count": 1,
   "metadata": {
    "colab": {},
    "colab_type": "code",
    "id": "9ytiiYjzJtj0"
   },
   "outputs": [
    {
     "name": "stderr",
     "output_type": "stream",
     "text": [
      "C:\\Users\\Greg\\Anaconda3\\lib\\site-packages\\h5py\\__init__.py:36: FutureWarning: Conversion of the second argument of issubdtype from `float` to `np.floating` is deprecated. In future, it will be treated as `np.float64 == np.dtype(float).type`.\n",
      "  from ._conv import register_converters as _register_converters\n"
     ]
    }
   ],
   "source": [
    "# import dependencies\n",
    "import numpy as np\n",
    "import pandas as pd\n",
    "import tensorflow as tf"
   ]
  },
  {
   "cell_type": "code",
   "execution_count": 2,
   "metadata": {},
   "outputs": [
    {
     "name": "stdout",
     "output_type": "stream",
     "text": [
      "LANL-Earthquake-PredictionÂ¶.ipynb\n",
      "LANL_Earthquake_Colab.ipynb\n",
      "LANL_Earthquake_New.ipynb\n",
      "README.md\n",
      "TrainingDataSegmentation.py\n",
      "Weights_DataSize_10000_LSTM_Model_01.h5\n",
      "Weights_DataSize_10000_LSTM_Model_02.h5\n",
      "Weights_DataSize_10000_LSTM_Model_03.h5\n",
      "Weights_DataSize_10000_LSTM_Model_04.h5\n"
     ]
    }
   ],
   "source": [
    "!ls"
   ]
  },
  {
   "cell_type": "markdown",
   "metadata": {
    "colab_type": "text",
    "id": "5mLgz6B2P_5p"
   },
   "source": [
    "### Define Data Loading Functions"
   ]
  },
  {
   "cell_type": "code",
   "execution_count": 3,
   "metadata": {
    "colab": {},
    "colab_type": "code",
    "id": "4RvspK6MJ4Ek"
   },
   "outputs": [],
   "source": [
    "# set data paths from drive\n",
    "training_data_path = \"/Users/Greg/Desktop/LANL-Data/LANL-Training-Data/\"\n",
    "testing_data_path = \"/Users/Greg/Desktop/LANL-Data/LANL-Test-Data/\"\n",
    "\n",
    "\n",
    "def get_file_number(n):\n",
    "    n = str(n)\n",
    "    n = \"0\"*(3-len(n)) + n\n",
    "    return n\n",
    "\n",
    "def load_data(number):\n",
    "    path = \"/Users/Greg/Desktop/LANL-Data/LANL-Training-Data/Training-Data\"\n",
    "    path = path + get_file_number(number) + \".csv\"\n",
    "    train_df = pd.read_csv(path, dtype={'acoustic_data': np.int16, 'time_to_failure': np.float32})\n",
    "    print(train_df.head())\n",
    "    return train_df\n",
    "\n",
    "def create_training_data(number, data_length):\n",
    "    train_df = load_data(number)\n",
    "    samples = train_df.shape[0]//data_length\n",
    "    X = train_df[\"acoustic_data\"].as_matrix()\n",
    "    Y = train_df[\"time_to_failure\"].as_matrix()\n",
    "    del train_df\n",
    "    train_df = None\n",
    "    x_train = []\n",
    "    y_train = []\n",
    "    for i in range(samples):\n",
    "        x_train.append(X[i*data_length:(i+1)*data_length].tolist())\n",
    "        y_train.append(np.sum(Y[i*data_length:(i+1)*data_length].tolist()))\n",
    "    x_train.append(X[-1*data_length -1:-1].tolist())\n",
    "    y_train.append(np.sum(Y[-1*data_length-1:-1]))\n",
    "    print(type(x_train), len(x_train[-1]))\n",
    "    x_train = np.reshape(np.array(x_train), [samples+1, data_length, 1])\n",
    "    y_train = np.reshape(np.array(y_train), [samples+1, 1])\n",
    "    y_train = y_train/data_length\n",
    "    return x_train, y_train"
   ]
  },
  {
   "cell_type": "code",
   "execution_count": 4,
   "metadata": {
    "colab": {
     "base_uri": "https://localhost:8080/",
     "height": 34
    },
    "colab_type": "code",
    "id": "LjGjf5Jn1yFe",
    "outputId": "5cbbe280-8798-42c9-af0f-6525cd539404"
   },
   "outputs": [
    {
     "name": "stdout",
     "output_type": "stream",
     "text": [
      "   acoustic_data  time_to_failure\n",
      "0              4          11.5408\n",
      "1              5          11.5408\n",
      "2              6          11.5408\n",
      "3              3          11.5408\n",
      "4              4          11.5408\n"
     ]
    },
    {
     "name": "stderr",
     "output_type": "stream",
     "text": [
      "C:\\Users\\Greg\\Anaconda3\\lib\\site-packages\\ipykernel_launcher.py:21: FutureWarning: Method .as_matrix will be removed in a future version. Use .values instead.\n",
      "C:\\Users\\Greg\\Anaconda3\\lib\\site-packages\\ipykernel_launcher.py:22: FutureWarning: Method .as_matrix will be removed in a future version. Use .values instead.\n"
     ]
    },
    {
     "name": "stdout",
     "output_type": "stream",
     "text": [
      "<class 'list'> 10000\n"
     ]
    }
   ],
   "source": [
    "x, y = create_training_data(1, 10000)"
   ]
  },
  {
   "cell_type": "markdown",
   "metadata": {
    "colab_type": "text",
    "id": "fog-1YC3Y4Qe"
   },
   "source": [
    "## Model Evaluation"
   ]
  },
  {
   "cell_type": "markdown",
   "metadata": {
    "colab_type": "text",
    "id": "cHTMR-_-QOdN"
   },
   "source": [
    "### LSTM Neural Networks"
   ]
  },
  {
   "cell_type": "code",
   "execution_count": 5,
   "metadata": {
    "colab": {
     "base_uri": "https://localhost:8080/",
     "height": 34
    },
    "colab_type": "code",
    "id": "1Ia8oJJmpgfI",
    "outputId": "372153f8-0b47-4b16-af75-09bbd931ddeb"
   },
   "outputs": [
    {
     "name": "stderr",
     "output_type": "stream",
     "text": [
      "Using TensorFlow backend.\n"
     ]
    }
   ],
   "source": [
    "from keras.models import Sequential\n",
    "from keras.layers import LSTM, Dense, Dropout, Masking, Embedding, RNN"
   ]
  },
  {
   "cell_type": "code",
   "execution_count": 6,
   "metadata": {
    "colab": {
     "base_uri": "https://localhost:8080/",
     "height": 292
    },
    "colab_type": "code",
    "id": "rTGXOjNVM7xd",
    "outputId": "c36fbe7d-5249-4c5b-f86a-d0a31304b00e"
   },
   "outputs": [
    {
     "name": "stderr",
     "output_type": "stream",
     "text": [
      "C:\\Users\\Greg\\Anaconda3\\lib\\site-packages\\ipykernel_launcher.py:5: UserWarning: The `input_dim` and `input_length` arguments in recurrent layers are deprecated. Use `input_shape` instead.\n",
      "  \"\"\"\n",
      "C:\\Users\\Greg\\Anaconda3\\lib\\site-packages\\ipykernel_launcher.py:5: UserWarning: Update your `LSTM` call to the Keras 2 API: `LSTM(15, return_sequences=True, input_shape=(None, 1))`\n",
      "  \"\"\"\n",
      "C:\\Users\\Greg\\Anaconda3\\lib\\site-packages\\ipykernel_launcher.py:14: UserWarning: The `input_dim` and `input_length` arguments in recurrent layers are deprecated. Use `input_shape` instead.\n",
      "  \n",
      "C:\\Users\\Greg\\Anaconda3\\lib\\site-packages\\ipykernel_launcher.py:14: UserWarning: Update your `LSTM` call to the Keras 2 API: `LSTM(15, return_sequences=True, input_shape=(None, 1))`\n",
      "  \n",
      "C:\\Users\\Greg\\Anaconda3\\lib\\site-packages\\ipykernel_launcher.py:22: UserWarning: The `input_dim` and `input_length` arguments in recurrent layers are deprecated. Use `input_shape` instead.\n",
      "C:\\Users\\Greg\\Anaconda3\\lib\\site-packages\\ipykernel_launcher.py:22: UserWarning: Update your `LSTM` call to the Keras 2 API: `LSTM(15, return_sequences=True, input_shape=(None, 1))`\n",
      "C:\\Users\\Greg\\Anaconda3\\lib\\site-packages\\ipykernel_launcher.py:30: UserWarning: The `input_dim` and `input_length` arguments in recurrent layers are deprecated. Use `input_shape` instead.\n",
      "C:\\Users\\Greg\\Anaconda3\\lib\\site-packages\\ipykernel_launcher.py:30: UserWarning: Update your `LSTM` call to the Keras 2 API: `LSTM(15, return_sequences=True, input_shape=(None, 1))`\n"
     ]
    }
   ],
   "source": [
    "# define LSTM Models for training\n",
    "\n",
    "# LSTM 01\n",
    "LSTM_Model_01 = Sequential()\n",
    "LSTM_Model_01.add(LSTM(15, input_dim=1, return_sequences=True))\n",
    "LSTM_Model_01.add(LSTM(15))\n",
    "LSTM_Model_01.add(Dense(15, activation=\"relu\"))\n",
    "LSTM_Model_01.add(Dense(5, activation=\"relu\"))\n",
    "LSTM_Model_01.add(Dense(1, activation=\"relu\"))\n",
    "LSTM_Model_01.compile(optimizer=\"adam\", loss='mean_squared_error')\n",
    "\n",
    "# LSTM 02\n",
    "LSTM_Model_02 = Sequential()\n",
    "LSTM_Model_02.add(LSTM(15, input_dim=1, return_sequences=True))\n",
    "LSTM_Model_02.add(LSTM(15))\n",
    "LSTM_Model_02.add(Dense(15, activation=\"relu\"))\n",
    "LSTM_Model_02.add(Dense(1, activation=\"relu\"))\n",
    "LSTM_Model_02.compile(optimizer=\"adam\", loss='mean_squared_error')\n",
    "\n",
    "# LSTM 03\n",
    "LSTM_Model_03 = Sequential()\n",
    "LSTM_Model_03.add(LSTM(15, input_dim=1, return_sequences=True))\n",
    "LSTM_Model_03.add(LSTM(15, return_sequences=True))\n",
    "LSTM_Model_03.add(LSTM(15))\n",
    "LSTM_Model_03.add(Dense(1, activation=\"relu\"))\n",
    "LSTM_Model_03.compile(optimizer=\"adam\", loss='mean_squared_error')\n",
    "\n",
    "# LSTM 04\n",
    "LSTM_Model_04 = Sequential()\n",
    "LSTM_Model_04.add(LSTM(15, input_dim=1, return_sequences=True))\n",
    "LSTM_Model_04.add(LSTM(15, return_sequences=True))\n",
    "LSTM_Model_04.add(LSTM(15, return_sequences=True))\n",
    "LSTM_Model_04.add(LSTM(15))\n",
    "LSTM_Model_04.add(Dense(1, activation=\"relu\"))\n",
    "LSTM_Model_04.compile(optimizer=\"adam\", loss='mean_squared_error')\n",
    "\n",
    "\n",
    "LSTM_Models = [LSTM_Model_01, LSTM_Model_02, LSTM_Model_03, LSTM_Model_04]"
   ]
  },
  {
   "cell_type": "code",
   "execution_count": 46,
   "metadata": {
    "colab": {},
    "colab_type": "code",
    "id": "brdL3bbjM9Ks"
   },
   "outputs": [],
   "source": [
    "\n",
    "def train_LSTM_Models(LSTM_Models):\n",
    "  \n",
    "  for file_num in range(14):\n",
    "    data_size = 10000\n",
    "    x_train, y_train = create_training_data(file_num, data_size)\n",
    "    for number, lstm_model in enumerate(LSTM_Models):\n",
    "      lstm_model.load_weights(\"Weights_DataSize_\" + str(data_size) + \"_LSTM_Model_0\" + str(number+1) + \".h5\")\n",
    "      lstm_model.fit(x_train, y_train)\n",
    "      lstm_model.save_weights(\"Weights_DataSize_\" + str(data_size) + \"_LSTM_Model_0\" + str(number+1) + \".h5\")\n",
    "      "
   ]
  },
  {
   "cell_type": "code",
   "execution_count": 47,
   "metadata": {
    "colab": {
     "base_uri": "https://localhost:8080/",
     "height": 34
    },
    "colab_type": "code",
    "id": "OZ-QqPF2NoLV",
    "outputId": "724858b5-0397-4f92-8a37-badadac3e015"
   },
   "outputs": [
    {
     "name": "stdout",
     "output_type": "stream",
     "text": [
      "   acoustic_data  time_to_failure\n",
      "0             12           1.4691\n",
      "1              6           1.4691\n",
      "2              8           1.4691\n",
      "3              5           1.4691\n",
      "4              8           1.4691\n"
     ]
    },
    {
     "name": "stderr",
     "output_type": "stream",
     "text": [
      "C:\\Users\\Greg\\Anaconda3\\lib\\site-packages\\ipykernel_launcher.py:21: FutureWarning: Method .as_matrix will be removed in a future version. Use .values instead.\n",
      "C:\\Users\\Greg\\Anaconda3\\lib\\site-packages\\ipykernel_launcher.py:22: FutureWarning: Method .as_matrix will be removed in a future version. Use .values instead.\n"
     ]
    },
    {
     "name": "stdout",
     "output_type": "stream",
     "text": [
      "<class 'list'> 10000\n",
      "Epoch 1/1\n",
      "566/566 [==============================] - 308s 544ms/step - loss: 0.7197\n",
      "Epoch 1/1\n",
      "566/566 [==============================] - 309s 547ms/step - loss: 0.7113\n",
      "Epoch 1/1\n",
      "566/566 [==============================] - 466s 823ms/step - loss: 0.6010\n",
      "Epoch 1/1\n",
      "566/566 [==============================] - 633s 1s/step - loss: 0.4315\n",
      "   acoustic_data  time_to_failure\n",
      "0              4          11.5408\n",
      "1              5          11.5408\n",
      "2              6          11.5408\n",
      "3              3          11.5408\n",
      "4              4          11.5408\n",
      "<class 'list'> 10000\n",
      "Epoch 1/1\n",
      "4443/4443 [==============================] - 2367s 533ms/step - loss: 44.4004\n",
      "Epoch 1/1\n",
      "4443/4443 [==============================] - 2384s 536ms/step - loss: 17.7467\n",
      "Epoch 1/1\n",
      "4443/4443 [==============================] - 3608s 812ms/step - loss: 16.6095\n",
      "Epoch 1/1\n",
      "4443/4443 [==============================] - 4862s 1s/step - loss: 14.8333\n",
      "   acoustic_data  time_to_failure\n",
      "0              1          14.1806\n",
      "1              2          14.1806\n",
      "2             -1          14.1806\n",
      "3              5          14.1806\n",
      "4              7          14.1806\n",
      "<class 'list'> 10000\n",
      "Epoch 1/1\n",
      "5460/5460 [==============================] - 2907s 532ms/step - loss: 67.0258\n",
      "Epoch 1/1\n",
      "5460/5460 [==============================] - 2932s 537ms/step - loss: 16.4994\n",
      "Epoch 1/1\n",
      "5460/5460 [==============================] - 4414s 808ms/step - loss: 16.8750\n",
      "Epoch 1/1\n",
      "5460/5460 [==============================] - 5964s 1s/step - loss: 16.8675\n",
      "   acoustic_data  time_to_failure\n",
      "0              4           8.8567\n",
      "1              4           8.8567\n",
      "2              1           8.8567\n",
      "3              6           8.8567\n",
      "4             10           8.8567\n",
      "<class 'list'> 10000\n",
      "Epoch 1/1\n",
      "3410/3410 [==============================] - 1818s 533ms/step - loss: 26.1482\n",
      "Epoch 1/1\n",
      "3410/3410 [==============================] - 1835s 538ms/step - loss: 6.6285\n",
      "Epoch 1/1\n",
      "3410/3410 [==============================] - 2759s 809ms/step - loss: 6.7398\n",
      "Epoch 1/1\n",
      "3410/3410 [==============================] - 3750s 1s/step - loss: 6.5600\n",
      "   acoustic_data  time_to_failure\n",
      "0             -4           12.694\n",
      "1             -1           12.694\n",
      "2              1           12.694\n",
      "3              2           12.694\n",
      "4              0           12.694\n",
      "<class 'list'> 10000\n",
      "Epoch 1/1\n",
      "4887/4887 [==============================] - 2609s 534ms/step - loss: 53.7169\n",
      "Epoch 1/1\n",
      "2720/4887 [===============>..............] - ETA: 19:28 - loss: 13.8586"
     ]
    },
    {
     "ename": "KeyboardInterrupt",
     "evalue": "",
     "output_type": "error",
     "traceback": [
      "\u001b[1;31m---------------------------------------------------------------------------\u001b[0m",
      "\u001b[1;31mKeyboardInterrupt\u001b[0m                         Traceback (most recent call last)",
      "\u001b[1;32m<ipython-input-47-7a36628cfa7c>\u001b[0m in \u001b[0;36m<module>\u001b[1;34m()\u001b[0m\n\u001b[1;32m----> 1\u001b[1;33m \u001b[0mtrain_LSTM_Models\u001b[0m\u001b[1;33m(\u001b[0m\u001b[0mLSTM_Models\u001b[0m\u001b[1;33m)\u001b[0m\u001b[1;33m\u001b[0m\u001b[0m\n\u001b[0m",
      "\u001b[1;32m<ipython-input-46-944783984dbb>\u001b[0m in \u001b[0;36mtrain_LSTM_Models\u001b[1;34m(LSTM_Models)\u001b[0m\n\u001b[0;32m      7\u001b[0m     \u001b[1;32mfor\u001b[0m \u001b[0mnumber\u001b[0m\u001b[1;33m,\u001b[0m \u001b[0mlstm_model\u001b[0m \u001b[1;32min\u001b[0m \u001b[0menumerate\u001b[0m\u001b[1;33m(\u001b[0m\u001b[0mLSTM_Models\u001b[0m\u001b[1;33m)\u001b[0m\u001b[1;33m:\u001b[0m\u001b[1;33m\u001b[0m\u001b[0m\n\u001b[0;32m      8\u001b[0m       \u001b[0mlstm_model\u001b[0m\u001b[1;33m.\u001b[0m\u001b[0mload_weights\u001b[0m\u001b[1;33m(\u001b[0m\u001b[1;34m\"Weights_DataSize_\"\u001b[0m \u001b[1;33m+\u001b[0m \u001b[0mstr\u001b[0m\u001b[1;33m(\u001b[0m\u001b[0mdata_size\u001b[0m\u001b[1;33m)\u001b[0m \u001b[1;33m+\u001b[0m \u001b[1;34m\"_LSTM_Model_0\"\u001b[0m \u001b[1;33m+\u001b[0m \u001b[0mstr\u001b[0m\u001b[1;33m(\u001b[0m\u001b[0mnumber\u001b[0m\u001b[1;33m+\u001b[0m\u001b[1;36m1\u001b[0m\u001b[1;33m)\u001b[0m \u001b[1;33m+\u001b[0m \u001b[1;34m\".h5\"\u001b[0m\u001b[1;33m)\u001b[0m\u001b[1;33m\u001b[0m\u001b[0m\n\u001b[1;32m----> 9\u001b[1;33m       \u001b[0mlstm_model\u001b[0m\u001b[1;33m.\u001b[0m\u001b[0mfit\u001b[0m\u001b[1;33m(\u001b[0m\u001b[0mx_train\u001b[0m\u001b[1;33m,\u001b[0m \u001b[0my_train\u001b[0m\u001b[1;33m)\u001b[0m\u001b[1;33m\u001b[0m\u001b[0m\n\u001b[0m\u001b[0;32m     10\u001b[0m       \u001b[0mlstm_model\u001b[0m\u001b[1;33m.\u001b[0m\u001b[0msave_weights\u001b[0m\u001b[1;33m(\u001b[0m\u001b[1;34m\"Weights_DataSize_\"\u001b[0m \u001b[1;33m+\u001b[0m \u001b[0mstr\u001b[0m\u001b[1;33m(\u001b[0m\u001b[0mdata_size\u001b[0m\u001b[1;33m)\u001b[0m \u001b[1;33m+\u001b[0m \u001b[1;34m\"_LSTM_Model_0\"\u001b[0m \u001b[1;33m+\u001b[0m \u001b[0mstr\u001b[0m\u001b[1;33m(\u001b[0m\u001b[0mnumber\u001b[0m\u001b[1;33m+\u001b[0m\u001b[1;36m1\u001b[0m\u001b[1;33m)\u001b[0m \u001b[1;33m+\u001b[0m \u001b[1;34m\".h5\"\u001b[0m\u001b[1;33m)\u001b[0m\u001b[1;33m\u001b[0m\u001b[0m\n\u001b[0;32m     11\u001b[0m \u001b[1;33m\u001b[0m\u001b[0m\n",
      "\u001b[1;32m~\\Anaconda3\\lib\\site-packages\\keras\\engine\\training.py\u001b[0m in \u001b[0;36mfit\u001b[1;34m(self, x, y, batch_size, epochs, verbose, callbacks, validation_split, validation_data, shuffle, class_weight, sample_weight, initial_epoch, steps_per_epoch, validation_steps, **kwargs)\u001b[0m\n\u001b[0;32m   1037\u001b[0m                                         \u001b[0minitial_epoch\u001b[0m\u001b[1;33m=\u001b[0m\u001b[0minitial_epoch\u001b[0m\u001b[1;33m,\u001b[0m\u001b[1;33m\u001b[0m\u001b[0m\n\u001b[0;32m   1038\u001b[0m                                         \u001b[0msteps_per_epoch\u001b[0m\u001b[1;33m=\u001b[0m\u001b[0msteps_per_epoch\u001b[0m\u001b[1;33m,\u001b[0m\u001b[1;33m\u001b[0m\u001b[0m\n\u001b[1;32m-> 1039\u001b[1;33m                                         validation_steps=validation_steps)\n\u001b[0m\u001b[0;32m   1040\u001b[0m \u001b[1;33m\u001b[0m\u001b[0m\n\u001b[0;32m   1041\u001b[0m     def evaluate(self, x=None, y=None,\n",
      "\u001b[1;32m~\\Anaconda3\\lib\\site-packages\\keras\\engine\\training_arrays.py\u001b[0m in \u001b[0;36mfit_loop\u001b[1;34m(model, f, ins, out_labels, batch_size, epochs, verbose, callbacks, val_f, val_ins, shuffle, callback_metrics, initial_epoch, steps_per_epoch, validation_steps)\u001b[0m\n\u001b[0;32m    197\u001b[0m                     \u001b[0mins_batch\u001b[0m\u001b[1;33m[\u001b[0m\u001b[0mi\u001b[0m\u001b[1;33m]\u001b[0m \u001b[1;33m=\u001b[0m \u001b[0mins_batch\u001b[0m\u001b[1;33m[\u001b[0m\u001b[0mi\u001b[0m\u001b[1;33m]\u001b[0m\u001b[1;33m.\u001b[0m\u001b[0mtoarray\u001b[0m\u001b[1;33m(\u001b[0m\u001b[1;33m)\u001b[0m\u001b[1;33m\u001b[0m\u001b[0m\n\u001b[0;32m    198\u001b[0m \u001b[1;33m\u001b[0m\u001b[0m\n\u001b[1;32m--> 199\u001b[1;33m                 \u001b[0mouts\u001b[0m \u001b[1;33m=\u001b[0m \u001b[0mf\u001b[0m\u001b[1;33m(\u001b[0m\u001b[0mins_batch\u001b[0m\u001b[1;33m)\u001b[0m\u001b[1;33m\u001b[0m\u001b[0m\n\u001b[0m\u001b[0;32m    200\u001b[0m                 \u001b[0mouts\u001b[0m \u001b[1;33m=\u001b[0m \u001b[0mto_list\u001b[0m\u001b[1;33m(\u001b[0m\u001b[0mouts\u001b[0m\u001b[1;33m)\u001b[0m\u001b[1;33m\u001b[0m\u001b[0m\n\u001b[0;32m    201\u001b[0m                 \u001b[1;32mfor\u001b[0m \u001b[0ml\u001b[0m\u001b[1;33m,\u001b[0m \u001b[0mo\u001b[0m \u001b[1;32min\u001b[0m \u001b[0mzip\u001b[0m\u001b[1;33m(\u001b[0m\u001b[0mout_labels\u001b[0m\u001b[1;33m,\u001b[0m \u001b[0mouts\u001b[0m\u001b[1;33m)\u001b[0m\u001b[1;33m:\u001b[0m\u001b[1;33m\u001b[0m\u001b[0m\n",
      "\u001b[1;32m~\\Anaconda3\\lib\\site-packages\\keras\\backend\\tensorflow_backend.py\u001b[0m in \u001b[0;36m__call__\u001b[1;34m(self, inputs)\u001b[0m\n\u001b[0;32m   2713\u001b[0m                 \u001b[1;32mreturn\u001b[0m \u001b[0mself\u001b[0m\u001b[1;33m.\u001b[0m\u001b[0m_legacy_call\u001b[0m\u001b[1;33m(\u001b[0m\u001b[0minputs\u001b[0m\u001b[1;33m)\u001b[0m\u001b[1;33m\u001b[0m\u001b[0m\n\u001b[0;32m   2714\u001b[0m \u001b[1;33m\u001b[0m\u001b[0m\n\u001b[1;32m-> 2715\u001b[1;33m             \u001b[1;32mreturn\u001b[0m \u001b[0mself\u001b[0m\u001b[1;33m.\u001b[0m\u001b[0m_call\u001b[0m\u001b[1;33m(\u001b[0m\u001b[0minputs\u001b[0m\u001b[1;33m)\u001b[0m\u001b[1;33m\u001b[0m\u001b[0m\n\u001b[0m\u001b[0;32m   2716\u001b[0m         \u001b[1;32melse\u001b[0m\u001b[1;33m:\u001b[0m\u001b[1;33m\u001b[0m\u001b[0m\n\u001b[0;32m   2717\u001b[0m             \u001b[1;32mif\u001b[0m \u001b[0mpy_any\u001b[0m\u001b[1;33m(\u001b[0m\u001b[0mis_tensor\u001b[0m\u001b[1;33m(\u001b[0m\u001b[0mx\u001b[0m\u001b[1;33m)\u001b[0m \u001b[1;32mfor\u001b[0m \u001b[0mx\u001b[0m \u001b[1;32min\u001b[0m \u001b[0minputs\u001b[0m\u001b[1;33m)\u001b[0m\u001b[1;33m:\u001b[0m\u001b[1;33m\u001b[0m\u001b[0m\n",
      "\u001b[1;32m~\\Anaconda3\\lib\\site-packages\\keras\\backend\\tensorflow_backend.py\u001b[0m in \u001b[0;36m_call\u001b[1;34m(self, inputs)\u001b[0m\n\u001b[0;32m   2673\u001b[0m             \u001b[0mfetched\u001b[0m \u001b[1;33m=\u001b[0m \u001b[0mself\u001b[0m\u001b[1;33m.\u001b[0m\u001b[0m_callable_fn\u001b[0m\u001b[1;33m(\u001b[0m\u001b[1;33m*\u001b[0m\u001b[0marray_vals\u001b[0m\u001b[1;33m,\u001b[0m \u001b[0mrun_metadata\u001b[0m\u001b[1;33m=\u001b[0m\u001b[0mself\u001b[0m\u001b[1;33m.\u001b[0m\u001b[0mrun_metadata\u001b[0m\u001b[1;33m)\u001b[0m\u001b[1;33m\u001b[0m\u001b[0m\n\u001b[0;32m   2674\u001b[0m         \u001b[1;32melse\u001b[0m\u001b[1;33m:\u001b[0m\u001b[1;33m\u001b[0m\u001b[0m\n\u001b[1;32m-> 2675\u001b[1;33m             \u001b[0mfetched\u001b[0m \u001b[1;33m=\u001b[0m \u001b[0mself\u001b[0m\u001b[1;33m.\u001b[0m\u001b[0m_callable_fn\u001b[0m\u001b[1;33m(\u001b[0m\u001b[1;33m*\u001b[0m\u001b[0marray_vals\u001b[0m\u001b[1;33m)\u001b[0m\u001b[1;33m\u001b[0m\u001b[0m\n\u001b[0m\u001b[0;32m   2676\u001b[0m         \u001b[1;32mreturn\u001b[0m \u001b[0mfetched\u001b[0m\u001b[1;33m[\u001b[0m\u001b[1;33m:\u001b[0m\u001b[0mlen\u001b[0m\u001b[1;33m(\u001b[0m\u001b[0mself\u001b[0m\u001b[1;33m.\u001b[0m\u001b[0moutputs\u001b[0m\u001b[1;33m)\u001b[0m\u001b[1;33m]\u001b[0m\u001b[1;33m\u001b[0m\u001b[0m\n\u001b[0;32m   2677\u001b[0m \u001b[1;33m\u001b[0m\u001b[0m\n",
      "\u001b[1;32m~\\Anaconda3\\lib\\site-packages\\tensorflow\\python\\client\\session.py\u001b[0m in \u001b[0;36m__call__\u001b[1;34m(self, *args, **kwargs)\u001b[0m\n\u001b[0;32m   1437\u001b[0m           ret = tf_session.TF_SessionRunCallable(\n\u001b[0;32m   1438\u001b[0m               \u001b[0mself\u001b[0m\u001b[1;33m.\u001b[0m\u001b[0m_session\u001b[0m\u001b[1;33m.\u001b[0m\u001b[0m_session\u001b[0m\u001b[1;33m,\u001b[0m \u001b[0mself\u001b[0m\u001b[1;33m.\u001b[0m\u001b[0m_handle\u001b[0m\u001b[1;33m,\u001b[0m \u001b[0margs\u001b[0m\u001b[1;33m,\u001b[0m \u001b[0mstatus\u001b[0m\u001b[1;33m,\u001b[0m\u001b[1;33m\u001b[0m\u001b[0m\n\u001b[1;32m-> 1439\u001b[1;33m               run_metadata_ptr)\n\u001b[0m\u001b[0;32m   1440\u001b[0m         \u001b[1;32mif\u001b[0m \u001b[0mrun_metadata\u001b[0m\u001b[1;33m:\u001b[0m\u001b[1;33m\u001b[0m\u001b[0m\n\u001b[0;32m   1441\u001b[0m           \u001b[0mproto_data\u001b[0m \u001b[1;33m=\u001b[0m \u001b[0mtf_session\u001b[0m\u001b[1;33m.\u001b[0m\u001b[0mTF_GetBuffer\u001b[0m\u001b[1;33m(\u001b[0m\u001b[0mrun_metadata_ptr\u001b[0m\u001b[1;33m)\u001b[0m\u001b[1;33m\u001b[0m\u001b[0m\n",
      "\u001b[1;31mKeyboardInterrupt\u001b[0m: "
     ]
    }
   ],
   "source": [
    "train_LSTM_Models(LSTM_Models)"
   ]
  },
  {
   "cell_type": "code",
   "execution_count": 8,
   "metadata": {},
   "outputs": [
    {
     "data": {
      "text/plain": [
       "array([[4.5362196]], dtype=float32)"
      ]
     },
     "execution_count": 8,
     "metadata": {},
     "output_type": "execute_result"
    }
   ],
   "source": [
    "LSTM_Models[1].load_weights(\"Weights_DataSize_\" + str(10000) + \"_LSTM_Model_0\" + str(2) + \".h5\")\n",
    "LSTM_Models[1].predict(x[0:1])"
   ]
  },
  {
   "cell_type": "code",
   "execution_count": 9,
   "metadata": {},
   "outputs": [
    {
     "data": {
      "text/plain": [
       "array([[11.53994964]])"
      ]
     },
     "execution_count": 9,
     "metadata": {},
     "output_type": "execute_result"
    }
   ],
   "source": [
    "y[0:1]"
   ]
  },
  {
   "cell_type": "code",
   "execution_count": null,
   "metadata": {},
   "outputs": [],
   "source": [
    "def Make_LSTM_Submission(LSTM_Models):\n",
    "    \n",
    "    for i, lstm_model in enumerate(LSTM_Models):\n",
    "        "
   ]
  },
  {
   "cell_type": "markdown",
   "metadata": {},
   "source": [
    "### Feed Forward Neural Network"
   ]
  },
  {
   "cell_type": "code",
   "execution_count": null,
   "metadata": {},
   "outputs": [],
   "source": []
  },
  {
   "cell_type": "code",
   "execution_count": null,
   "metadata": {},
   "outputs": [],
   "source": []
  },
  {
   "cell_type": "code",
   "execution_count": null,
   "metadata": {},
   "outputs": [],
   "source": []
  },
  {
   "cell_type": "markdown",
   "metadata": {
    "colab_type": "text",
    "id": "CtkmmnZhZIHw"
   },
   "source": [
    "### Support Vector Machines"
   ]
  },
  {
   "cell_type": "code",
   "execution_count": 0,
   "metadata": {
    "colab": {},
    "colab_type": "code",
    "id": "NFLpQeJLZUEZ"
   },
   "outputs": [],
   "source": []
  },
  {
   "cell_type": "code",
   "execution_count": 0,
   "metadata": {
    "colab": {},
    "colab_type": "code",
    "id": "_u6GnpYVZbp-"
   },
   "outputs": [],
   "source": []
  },
  {
   "cell_type": "markdown",
   "metadata": {
    "colab_type": "text",
    "id": "ciXt1cGcZx9g"
   },
   "source": [
    "### Neural Ordinary Differential Equations"
   ]
  },
  {
   "cell_type": "code",
   "execution_count": 0,
   "metadata": {
    "colab": {},
    "colab_type": "code",
    "id": "5oyp5W1kZ1Hu"
   },
   "outputs": [],
   "source": []
  },
  {
   "cell_type": "markdown",
   "metadata": {
    "colab_type": "text",
    "id": "qinjq88RZfZ7"
   },
   "source": [
    "## Training Final Model"
   ]
  },
  {
   "cell_type": "code",
   "execution_count": 0,
   "metadata": {
    "colab": {},
    "colab_type": "code",
    "id": "kjwuLA9AZj9n"
   },
   "outputs": [],
   "source": []
  }
 ],
 "metadata": {
  "accelerator": "GPU",
  "colab": {
   "collapsed_sections": [
    "CtkmmnZhZIHw",
    "ciXt1cGcZx9g",
    "qinjq88RZfZ7"
   ],
   "include_colab_link": true,
   "name": "LANL-Earthquake-Colab.ipynb",
   "provenance": [],
   "version": "0.3.2"
  },
  "kernelspec": {
   "display_name": "Python 3",
   "language": "python",
   "name": "python3"
  },
  "language_info": {
   "codemirror_mode": {
    "name": "ipython",
    "version": 3
   },
   "file_extension": ".py",
   "mimetype": "text/x-python",
   "name": "python",
   "nbconvert_exporter": "python",
   "pygments_lexer": "ipython3",
   "version": "3.6.5"
  }
 },
 "nbformat": 4,
 "nbformat_minor": 1
}
